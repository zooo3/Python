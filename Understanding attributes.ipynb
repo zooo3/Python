{
 "cells": [
  {
   "cell_type": "markdown",
   "id": "2cfda17c",
   "metadata": {},
   "source": [
    "# &#129504; Understanding attributes"
   ]
  },
  {
   "cell_type": "markdown",
   "id": "82598c4f",
   "metadata": {},
   "source": [
    "Based on the PyCon US 2022 &#x1F40D; talk \"Reuven M. Lerner: Understanding attributes (Or: They're not nearly as boring as you think!)\" \n",
    "\n",
    "&#x1F3AC; https://www.youtube.com/watch?v=Tn1wLsj7Bys&list=PL2Uw4_HvXqvYeXy8ab7iRHjA-9HiYhRQl&index=51"
   ]
  },
  {
   "cell_type": "markdown",
   "id": "9ed28e20",
   "metadata": {},
   "source": [
    "## &#x1F4D6; Contents  "
   ]
  },
  {
   "cell_type": "markdown",
   "id": "9068e67e",
   "metadata": {},
   "source": [
    "1. [Getting started](#start) \n",
    "2. [Variables vs. attributes](#vari) \n",
    "3. [Reading from attributes](#read) \n",
    "4. [Setting attributes](#set) \n",
    "5. [Extending person](#person) \n",
    "6. [Class attributes](#class) <br>\n",
    "6.1 [Quiz time!](#quiz) <br>\n",
    "6.2 [Methods are attributes](#methods) <br>\n",
    "6.3 [Classes are file-less modules](#file_less) <br>\n",
    "6.4 [Static variables](#static) \n",
    "7.   [ICPO](#icpo) <br>\n",
    "7.1 [Employees](#employees) <br>\n",
    "7.2 [Print](#print) <br>\n",
    "7.3 [Operator overloading](#ops) \n",
    "8. [Method rewriting](#rewriting) <br>\n",
    "8.1 [Descriptors](#desc) <br>\n",
    "8.2 [get](#get) <br>\n",
    "8.3 [Methods are descriptors](#meth_r_desc) <br>\n",
    "8.4 [Partial functions](#partial)\n",
    "9. [Wrapping up](#wrap) "
   ]
  },
  {
   "cell_type": "markdown",
   "id": "f39ec859",
   "metadata": {},
   "source": [
    "# &#127939; &#8205; Getting started <a id=\"start\"></a>"
   ]
  },
  {
   "cell_type": "code",
   "execution_count": 1,
   "id": "d50291fd",
   "metadata": {},
   "outputs": [],
   "source": [
    "# let's assign to a variable\n",
    "\n",
    "x = 100"
   ]
  },
  {
   "cell_type": "markdown",
   "id": "6773253b",
   "metadata": {},
   "source": [
    "What is happening here?\n",
    "\n",
    "> We are **not** putting the value of `100` in the memory location named `x`\n",
    "\n",
    "> We **are** saying that the name `x` should refer to the integer object `100`"
   ]
  },
  {
   "cell_type": "markdown",
   "id": "069253dd",
   "metadata": {},
   "source": [
    "This is best illustrated using\n",
    "\n",
    "> [Python tutor](https://pythontutor.com/) &#x1F4F9;\n",
    "\n",
    "from which we see that the global variable `x` refers to an integer object `100`. So far, so good &#128077; "
   ]
  },
  {
   "cell_type": "code",
   "execution_count": 6,
   "id": "9e39e2f6",
   "metadata": {},
   "outputs": [],
   "source": [
    "# let's create a class \n",
    "# a do nothing class\n",
    "\n",
    "class MyClass:\n",
    "    pass\n",
    "\n",
    "x = MyClass    # create an instance, assign to x\n",
    "x.y = 100      # assign 100 to x.y"
   ]
  },
  {
   "cell_type": "markdown",
   "id": "213c0254",
   "metadata": {},
   "source": [
    "What am I doing here?\n",
    "\n",
    "> We are **not** assigning to `x` ; we **are** assigning to `x.y`\n",
    "\n",
    "> We **are** creating an attribute on `x` ; `y` is **not** a variable"
   ]
  },
  {
   "cell_type": "markdown",
   "id": "0762ee7b",
   "metadata": {},
   "source": [
    "&#x1F4F9;  `x` refers to an instance of `MyClass`, and in that class we have an attribute `y` with a value of `100`."
   ]
  },
  {
   "cell_type": "markdown",
   "id": "5f7c809d",
   "metadata": {},
   "source": [
    "# &#x1F93C; Variables vs. attributes <a id=\"vari\"></a>"
   ]
  },
  {
   "cell_type": "markdown",
   "id": "e69674f9",
   "metadata": {},
   "source": [
    "> Every object in Python &#x1F40D; has attributes\n",
    "\n",
    "> Attributes are like a private dictionary &#x1F4D8; but we use `.` vs. `[]` to set or retrieve them\n",
    "\n",
    "> The attribute exists on the object &#129513; that the variable refers to -- **not** the variable itself"
   ]
  },
  {
   "cell_type": "markdown",
   "id": "316f0148",
   "metadata": {},
   "source": [
    "So, while we could colloquially say:\n",
    "\n",
    "\"`x` has an attribute `y`\",\n",
    "\n",
    "this is in fact false &#x274C;\n",
    "\n",
    "\"`x` is the variable referring to the object, and that object has an attribute `y`\" &#x2705; "
   ]
  },
  {
   "cell_type": "markdown",
   "id": "2c0a78ad",
   "metadata": {},
   "source": [
    "# &#x1F4DA; Reading from attributes <a id=\"read\"></a>"
   ]
  },
  {
   "cell_type": "code",
   "execution_count": 7,
   "id": "eda3c012",
   "metadata": {},
   "outputs": [
    {
     "data": {
      "text/plain": [
       "'3.11.5 | packaged by Anaconda, Inc. | (main, Sep 11 2023, 13:26:23) [MSC v.1916 64 bit (AMD64)]'"
      ]
     },
     "execution_count": 7,
     "metadata": {},
     "output_type": "execute_result"
    }
   ],
   "source": [
    "# we can retrieve from attributes easily\n",
    "\n",
    "import sys    # create the global variable sys which refers to the module object\n",
    "sys.version   # version is an attribute on the sys variable"
   ]
  },
  {
   "cell_type": "markdown",
   "id": "557857a9",
   "metadata": {},
   "source": [
    "And we receive the version of Python that we're running &#x1F3C3; "
   ]
  },
  {
   "cell_type": "code",
   "execution_count": 8,
   "id": "37ec8012",
   "metadata": {},
   "outputs": [
    {
     "data": {
      "text/plain": [
       "'ABC'"
      ]
     },
     "execution_count": 8,
     "metadata": {},
     "output_type": "execute_result"
    }
   ],
   "source": [
    "str.upper('abc')    # str is a built-in which refers to the string class\n",
    "                    # upper is a method on str\n",
    "                    # once I retrieve the method (function) object, use parentheses to invoke it and receive the result"
   ]
  },
  {
   "cell_type": "code",
   "execution_count": 9,
   "id": "22a4dd7c",
   "metadata": {},
   "outputs": [
    {
     "data": {
      "text/plain": [
       "3"
      ]
     },
     "execution_count": 9,
     "metadata": {},
     "output_type": "execute_result"
    }
   ],
   "source": [
    "import random\n",
    "random.randint(0,100)    # random is a module (variable)\n",
    "                         # randint is a method\n",
    "                         # retrieve method object and invoke it"
   ]
  },
  {
   "cell_type": "markdown",
   "id": "afff4dd2",
   "metadata": {},
   "source": [
    "> Attributes can contain **any** Python object e.g data &#x1F4CA; or funcs &#x1F57A; &#127926; "
   ]
  },
  {
   "cell_type": "markdown",
   "id": "c365548d",
   "metadata": {},
   "source": [
    "# Setting attributes 🩹<a id=\"set\"></a>"
   ]
  },
  {
   "cell_type": "markdown",
   "id": "bcdf4fb4",
   "metadata": {},
   "source": [
    "With rare exceptions - typically relating to built-ins written in C - we can set **any** attribute on **any** object we want. "
   ]
  },
  {
   "cell_type": "code",
   "execution_count": 10,
   "id": "9e254ba7",
   "metadata": {},
   "outputs": [],
   "source": [
    "# assuming I have an object that's\n",
    "# NOT one of the built-in types\n",
    "\n",
    "x.y = 100"
   ]
  },
  {
   "cell_type": "markdown",
   "id": "2f5865af",
   "metadata": {},
   "source": [
    "We have added an attribute `y` to the object referred to by `x`. If `y` already existed, we would've replaced vs. added it.\n",
    "\n",
    "If this sounds similar to a dictionary &#x1F4D8; Guess what? That's because it is."
   ]
  },
  {
   "cell_type": "code",
   "execution_count": 11,
   "id": "2ab66bbf",
   "metadata": {},
   "outputs": [
    {
     "data": {
      "text/plain": [
       "'4.20'"
      ]
     },
     "execution_count": 11,
     "metadata": {},
     "output_type": "execute_result"
    }
   ],
   "source": [
    "# to emphasise the point\n",
    "\n",
    "sys.version = \"4.20\"\n",
    "sys.version"
   ]
  },
  {
   "cell_type": "markdown",
   "id": "4c1ff675",
   "metadata": {},
   "source": [
    "Often, we set attributes without thinking about it. For example, the `__init__` method is designed to set attributes!"
   ]
  },
  {
   "cell_type": "code",
   "execution_count": 12,
   "id": "d8b7fb0d",
   "metadata": {},
   "outputs": [],
   "source": [
    "class Person:\n",
    "    def __init__(self, name):    # self = instance created \n",
    "        self.name = name         # name = local variable containing value        \n",
    "                                \n",
    "p1 = Person('name1')\n",
    "p2 = Person('name2')"
   ]
  },
  {
   "cell_type": "markdown",
   "id": "bd47f691",
   "metadata": {},
   "source": [
    "What is happening here? &#128173;\n",
    "\n",
    "> We take the value `name` and assign to `self.name` i.e. add an attribute to that instance. Now the object has that attribute, referred to by `self` within `__init__` but a different reference or variable otherwise e.g. `p1` or `p2`\n",
    "\n",
    "Hint: use [Python tutor](https://pythontutor.com/) &#x1F4F9; "
   ]
  },
  {
   "cell_type": "markdown",
   "id": "5b108e78",
   "metadata": {},
   "source": [
    "What is `__init__` ?\n",
    "\n",
    "> It is **not** the constructor method &#128679;\n",
    "\n",
    "> It is invoked **after** the new object has been created to add **attributes** to the object &#129513;"
   ]
  },
  {
   "cell_type": "markdown",
   "id": "ef551259",
   "metadata": {},
   "source": [
    "# &#x1F465; Extending `Person` <a id=\"person\"></a>"
   ]
  },
  {
   "cell_type": "markdown",
   "id": "906a3673",
   "metadata": {},
   "source": [
    "Let's keep track of the population as we use `Person` to create people &#x1F6B6;"
   ]
  },
  {
   "cell_type": "code",
   "execution_count": 13,
   "id": "d5898304",
   "metadata": {},
   "outputs": [
    {
     "name": "stdout",
     "output_type": "stream",
     "text": [
      "Before, population=0\n"
     ]
    },
    {
     "ename": "UnboundLocalError",
     "evalue": "cannot access local variable 'population' where it is not associated with a value",
     "output_type": "error",
     "traceback": [
      "\u001b[1;31m---------------------------------------------------------------------------\u001b[0m",
      "\u001b[1;31mUnboundLocalError\u001b[0m                         Traceback (most recent call last)",
      "Cell \u001b[1;32mIn[13], line 15\u001b[0m\n\u001b[0;32m     11\u001b[0m         \u001b[38;5;28;01mreturn\u001b[39;00m \u001b[38;5;124mf\u001b[39m\u001b[38;5;124m'\u001b[39m\u001b[38;5;124mHello, \u001b[39m\u001b[38;5;132;01m{\u001b[39;00m\u001b[38;5;28mself\u001b[39m\u001b[38;5;241m.\u001b[39mname\u001b[38;5;132;01m}\u001b[39;00m\u001b[38;5;124m!\u001b[39m\u001b[38;5;124m'\u001b[39m\n\u001b[0;32m     14\u001b[0m \u001b[38;5;28mprint\u001b[39m(\u001b[38;5;124mf\u001b[39m\u001b[38;5;124m'\u001b[39m\u001b[38;5;124mBefore, \u001b[39m\u001b[38;5;132;01m{\u001b[39;00mpopulation\u001b[38;5;132;01m=}\u001b[39;00m\u001b[38;5;124m'\u001b[39m)\n\u001b[1;32m---> 15\u001b[0m p1 \u001b[38;5;241m=\u001b[39m Person(\u001b[38;5;124m'\u001b[39m\u001b[38;5;124mname1\u001b[39m\u001b[38;5;124m'\u001b[39m)\n\u001b[0;32m     16\u001b[0m p2 \u001b[38;5;241m=\u001b[39m Person(\u001b[38;5;124m'\u001b[39m\u001b[38;5;124mname2\u001b[39m\u001b[38;5;124m'\u001b[39m)\n\u001b[0;32m     17\u001b[0m \u001b[38;5;28mprint\u001b[39m(\u001b[38;5;124mf\u001b[39m\u001b[38;5;124m'\u001b[39m\u001b[38;5;124mAfter, \u001b[39m\u001b[38;5;132;01m{\u001b[39;00mpopulation\u001b[38;5;132;01m=}\u001b[39;00m\u001b[38;5;124m'\u001b[39m)\n",
      "Cell \u001b[1;32mIn[13], line 7\u001b[0m, in \u001b[0;36mPerson.__init__\u001b[1;34m(self, name)\u001b[0m\n\u001b[0;32m      6\u001b[0m \u001b[38;5;28;01mdef\u001b[39;00m \u001b[38;5;21m__init__\u001b[39m(\u001b[38;5;28mself\u001b[39m, name):\n\u001b[1;32m----> 7\u001b[0m     population \u001b[38;5;241m+\u001b[39m\u001b[38;5;241m=\u001b[39m\u001b[38;5;241m1\u001b[39m    \u001b[38;5;66;03m# add 1 to population each time a new instance is created \u001b[39;00m\n\u001b[0;32m      8\u001b[0m     \u001b[38;5;28mself\u001b[39m\u001b[38;5;241m.\u001b[39mname \u001b[38;5;241m=\u001b[39m name\n",
      "\u001b[1;31mUnboundLocalError\u001b[0m: cannot access local variable 'population' where it is not associated with a value"
     ]
    }
   ],
   "source": [
    "# Idea: a global variable\n",
    "\n",
    "population = 0    # create a global variable\n",
    "\n",
    "class Person:\n",
    "    def __init__(self, name):\n",
    "        population +=1    # add 1 to population each time a new instance is created \n",
    "        self.name = name\n",
    "        \n",
    "    def greet (self):\n",
    "        return f'Hello, {self.name}!'\n",
    "    \n",
    "    \n",
    "print(f'Before, {population=}')\n",
    "p1 = Person('name1')\n",
    "p2 = Person('name2')\n",
    "print(f'After, {population=}')"
   ]
  },
  {
   "cell_type": "markdown",
   "id": "567a94c2",
   "metadata": {},
   "source": [
    "Why the error? &#x274C; Because\n",
    "\n",
    "> Within functions, variable assignments are local &#x1f3e0; and `population` is assigned **inside** `__init__`\n",
    "\n",
    "So, when we run `__init__`, Python &#x1F40D; says\n",
    "\n",
    "> \"I need 1 + the current value of...&#128165;\""
   ]
  },
  {
   "cell_type": "code",
   "execution_count": 14,
   "id": "6aae0895",
   "metadata": {},
   "outputs": [
    {
     "name": "stdout",
     "output_type": "stream",
     "text": [
      "Before, population=0\n",
      "After, population=2\n"
     ]
    }
   ],
   "source": [
    "# How to fix this?\n",
    "# Use `global`\n",
    "\n",
    "population = 0   \n",
    "\n",
    "class Person:\n",
    "    def __init__(self, name):\n",
    "        global population\n",
    "        population +=1    \n",
    "        self.name = name\n",
    "        \n",
    "    def greet (self):\n",
    "        return f'Hello, {self.name}!'\n",
    "    \n",
    "    \n",
    "print(f'Before, {population=}')\n",
    "p1 = Person('name1')\n",
    "p2 = Person('name2')\n",
    "print(f'After, {population=}')"
   ]
  },
  {
   "cell_type": "markdown",
   "id": "3842687c",
   "metadata": {},
   "source": [
    "How does this work? &#x2705; \n",
    "\n",
    "> `global` says: \"Hey Python, when you compile this function, **don't** record `population` as a local variable. Instead, assign to the global variable.\"\n",
    "\n",
    "&#x1F197; Okay but unnecessary use of global variables is poor practice. Can we do better?"
   ]
  },
  {
   "cell_type": "markdown",
   "id": "78943911",
   "metadata": {},
   "source": [
    "# &#8205; &#127891; Class attributes <a id=\"class\"></a>"
   ]
  },
  {
   "cell_type": "code",
   "execution_count": 15,
   "id": "181d5237",
   "metadata": {},
   "outputs": [
    {
     "name": "stdout",
     "output_type": "stream",
     "text": [
      "Before, population=2\n",
      "After, population=2\n",
      "Hello, name1!\n",
      "Hello, name2!\n"
     ]
    }
   ],
   "source": [
    "# Yes! Set an attribute on the Person class\n",
    "\n",
    "class Person:\n",
    "    def __init__(self, name):\n",
    "        \n",
    "        Person.population +=1\n",
    "        self.name = name\n",
    "        \n",
    "    def greet (self):\n",
    "        return f'Hello, {self.name}!'\n",
    "    \n",
    "Person.population = 0    # set population as an attribute on Person\n",
    "    \n",
    "    \n",
    "print(f'Before, {population=}')\n",
    "p1 = Person('name1')\n",
    "p2 = Person('name2')\n",
    "print(f'After, {population=}')\n",
    "\n",
    "print(p1.greet())\n",
    "print(p2.greet())"
   ]
  },
  {
   "cell_type": "markdown",
   "id": "ff5e1d1f",
   "metadata": {},
   "source": [
    "Unfortunately this works...the solution is correct &#x2705; but ugly &#x1F922; "
   ]
  },
  {
   "cell_type": "markdown",
   "id": "2fef1c96",
   "metadata": {},
   "source": [
    "# 🃏 Quiz time! <a id=\"quiz\"></a>"
   ]
  },
  {
   "cell_type": "code",
   "execution_count": 16,
   "id": "746c0e7a",
   "metadata": {},
   "outputs": [
    {
     "name": "stdout",
     "output_type": "stream",
     "text": [
      "A\n",
      "B\n",
      "D\n",
      "E\n",
      "C\n",
      "C\n"
     ]
    }
   ],
   "source": [
    "# What will this code print?\n",
    "\n",
    "print('A')    # 1. duh\n",
    "\n",
    "class Person:\n",
    "    print('B')    # 2. class body\n",
    "    def  __init__(self, name):\n",
    "        print('C')    # 5. function body\n",
    "        self.name = name\n",
    "    print('D')    # 3. class body\n",
    "print('E')    # 4. class body\n",
    "\n",
    "\n",
    "p1 = Person('name1')\n",
    "p2 = Person('name2')"
   ]
  },
  {
   "cell_type": "markdown",
   "id": "06e28a72",
   "metadata": {},
   "source": [
    "What's going on here? &#x1f914; Comparing func vs. class defs will help:\n",
    "\n",
    "> A function body **doesn't** execute when it's defined\n",
    "\n",
    "> A class body **must** execute when it's defined\n",
    "\n"
   ]
  },
  {
   "cell_type": "markdown",
   "id": "e806f4de",
   "metadata": {},
   "source": [
    "&#x1F44C; Understand. But there's something weird about `def`...\n",
    "\n",
    "Normally, `def` does two things:\n",
    "\n",
    "> Creates a function object &#129513;\n",
    "\n",
    "> Assigns the object to a variable- the function's name &#x1F520; \n",
    "\n",
    "But here, `def` is defining `__init__`. \n",
    "\n",
    "What is `__init__`?"
   ]
  },
  {
   "cell_type": "markdown",
   "id": "69e05a14",
   "metadata": {},
   "source": [
    "# 👩‍🍳 Methods are attributes <a id=\"methods\"></a>"
   ]
  },
  {
   "cell_type": "markdown",
   "id": "69d81c79",
   "metadata": {},
   "source": [
    "`__init__` is an attribute. Methods are attributes!\n",
    "\n",
    "Just like `population`, `__init__` is an attribute on the class. \n",
    "\n",
    "> Hint: use [Python tutor](https://pythontutor.com/) &#x1F4F9; \n",
    "\n",
    "&#x1F197; Okay but we still don't understand how `def` can define an attribute, when usually it defines a variable?"
   ]
  },
  {
   "cell_type": "markdown",
   "id": "fb21ebb0",
   "metadata": {},
   "source": [
    "# &#8205; &#127891; Classes are file-less modules <a id=\"file_less\"></a>"
   ]
  },
  {
   "cell_type": "markdown",
   "id": "ef96963b",
   "metadata": {},
   "source": [
    "We can think of classes as modules minus the files &#x1F4C1;"
   ]
  },
  {
   "cell_type": "markdown",
   "id": "068d0561",
   "metadata": {},
   "source": [
    "> Functions defined **in** a class body are class **attributes** &#x1F516;   \n",
    "\n",
    "> **Inside** of the class, they look lke variables 🪑\n",
    "\n",
    "> **Outside**, they look like attributes on the class &#x1F333;"
   ]
  },
  {
   "cell_type": "markdown",
   "id": "371e5a54",
   "metadata": {},
   "source": [
    "This is just like modules!"
   ]
  },
  {
   "cell_type": "markdown",
   "id": "eef0f1f1",
   "metadata": {},
   "source": [
    "> Functions or variables defined in a module file &#x1F4C1; are: global variables **inside** the file or attributes on the module object **oustide** the file."
   ]
  },
  {
   "cell_type": "markdown",
   "id": "dfccd882",
   "metadata": {},
   "source": [
    "So, returning to our example:"
   ]
  },
  {
   "cell_type": "code",
   "execution_count": 17,
   "id": "513b2f6e",
   "metadata": {},
   "outputs": [
    {
     "name": "stdout",
     "output_type": "stream",
     "text": [
      "Before, population=2\n",
      "After, population=2\n",
      "Hello, name1!\n",
      "Hello, name2!\n"
     ]
    }
   ],
   "source": [
    "# Class attribute, nice edition\n",
    "\n",
    "class Person:\n",
    "    population = 0    # attribute NOT variable definition!\n",
    "    \n",
    "    def __init__(self, name):\n",
    "        \n",
    "        Person.population +=1\n",
    "        self.name = name\n",
    "        \n",
    "    def greet (self):\n",
    "        return f'Hello, {self.name}!'\n",
    "    \n",
    "    \n",
    "print(f'Before, {population=}')\n",
    "p1 = Person('name1')\n",
    "p2 = Person('name2')\n",
    "print(f'After, {population=}')\n",
    "\n",
    "print(p1.greet())\n",
    "print(p2.greet())"
   ]
  },
  {
   "cell_type": "markdown",
   "id": "3d13ec53",
   "metadata": {},
   "source": [
    "&#x1F44C; Understand. But why don't we call it `person.population`?\n",
    "\n",
    "> `Person` is defined **after** the class body has run &#x1F3C3;"
   ]
  },
  {
   "cell_type": "markdown",
   "id": "8b87e65b",
   "metadata": {},
   "source": [
    "# &#x26A1; Static variables <a id=\"static\"></a>"
   ]
  },
  {
   "cell_type": "markdown",
   "id": "f43fc773",
   "metadata": {},
   "source": [
    "Sometimes, class attributes are called \"static variables\". \n",
    "\n",
    "**Don't** do this &#x1F6AB; \n",
    "\n",
    "Why?\n",
    "\n",
    "> Static variables are **shared** across the class and instances, whereas a class attribute &#x1F516; is a name which exists **only** on the class\n",
    "\n",
    "> Python &#x1F40D; does **not** have the concept of a shared attribute. However, many different attributes (and variables) can refer to the same object."
   ]
  },
  {
   "cell_type": "code",
   "execution_count": 18,
   "id": "58d724a1",
   "metadata": {},
   "outputs": [
    {
     "name": "stdout",
     "output_type": "stream",
     "text": [
      "Before, population=2\n",
      "After, Person.population=2\n",
      "After, p1.population=2\n",
      "After, p2.population=2\n"
     ]
    }
   ],
   "source": [
    "# Let's see the difference\n",
    "\n",
    "class Person:\n",
    "    population = 0    \n",
    "    \n",
    "    def __init__(self, name):\n",
    "        \n",
    "        Person.population +=1\n",
    "        self.name = name\n",
    "    \n",
    "    \n",
    "print(f'Before, {population=}')\n",
    "p1 = Person('name1')\n",
    "p2 = Person('name2')\n",
    "print(f'After, {Person.population=}')\n",
    "print(f'After, {p1.population=}')\n",
    "print(f'After, {p2.population=}')"
   ]
  },
  {
   "cell_type": "markdown",
   "id": "18a238ca",
   "metadata": {},
   "source": [
    "Uh oh...it worked &#128169; And we got the same values. Maybe they are shared...&#x1F914;"
   ]
  },
  {
   "cell_type": "markdown",
   "id": "ba764919",
   "metadata": {},
   "source": [
    "# ICPO 🔎 <a id=\"icpo\"></a>"
   ]
  },
  {
   "cell_type": "markdown",
   "id": "e2285199",
   "metadata": {},
   "source": [
    "Nope! We've encountered ICPO - the attribute lookup rule in Python. This is how Python &#x1F40D; looks for attributes -- in every instance.\n",
    "\n",
    "> **I**nstance : does this attribute exist on this instance? If yes, stop &#x26D4; else...\n",
    "\n",
    "> **C**lass : does this instance's class have this attribute? If yes, stop &#x26D4; else...\n",
    "\n",
    "> **P**arent : does this instance's class's parent have this attribute? If yes, stop &#x26D4; else...\n",
    "\n",
    "> **O**bject : does this instance's class's parent's object have this attribute?"
   ]
  },
  {
   "cell_type": "code",
   "execution_count": 19,
   "id": "e9c3b5a9",
   "metadata": {},
   "outputs": [
    {
     "name": "stdout",
     "output_type": "stream",
     "text": [
      "Before, population=2\n",
      "After, Person.population=2\n",
      "After, p1.population=2\n",
      "After, p2.population=2\n"
     ]
    }
   ],
   "source": [
    "# Let's do a walkthrough\n",
    "\n",
    "class Person:\n",
    "    population = 0    \n",
    "    \n",
    "    def __init__(self, name):\n",
    "        \n",
    "        Person.population +=1\n",
    "        self.name = name\n",
    "    \n",
    "    \n",
    "print(f'Before, {population=}')\n",
    "p1 = Person('name1')\n",
    "p2 = Person('name2')\n",
    "print(f'After, {Person.population=}')    # does person (instance) have the attribute population? Yes! Return 2.\n",
    "print(f'After, {p1.population=}')        # does p1 (instance) have the attribute population? No.\n",
    "print(f'After, {p2.population=}')        # okay, does person (class) have the attribute population? Yes! Return 2."
   ]
  },
  {
   "cell_type": "code",
   "execution_count": 20,
   "id": "875176f2",
   "metadata": {},
   "outputs": [
    {
     "name": "stdout",
     "output_type": "stream",
     "text": [
      "Hello, name1!\n",
      "Hello, name2!\n"
     ]
    }
   ],
   "source": [
    "# Another example\n",
    "\n",
    "class Person:\n",
    "    \n",
    "    def __init__(self, name):\n",
    "        self.name = name\n",
    "        \n",
    "    def greet (self):\n",
    "        return f'Hello, {self.name}!'\n",
    "    \n",
    "\n",
    "p1 = Person('name1')\n",
    "p2 = Person('name2')\n",
    "\n",
    "print(p1.greet())    # does p1 (instance) have the attribute greet? No.\n",
    "print(p2.greet())    # does person (class) have the attribute greet? Yes! We get back method object and execute it"
   ]
  },
  {
   "cell_type": "markdown",
   "id": "bdf1e55b",
   "metadata": {},
   "source": [
    "Methods are **class** attributes but we normally call them via the **instance**. ICPO lookup explains how this is possible."
   ]
  },
  {
   "cell_type": "markdown",
   "id": "4c989076",
   "metadata": {},
   "source": [
    "# 👩‍💼 Employees <a id=\"employees\"></a>"
   ]
  },
  {
   "cell_type": "code",
   "execution_count": 21,
   "id": "9851c093",
   "metadata": {},
   "outputs": [
    {
     "name": "stdout",
     "output_type": "stream",
     "text": [
      "Hello, emp1!\n",
      "Hello, emp2!\n"
     ]
    }
   ],
   "source": [
    "# let's define a new class: Employee\n",
    "# Employee should have 2 attributes: name and ID number\n",
    "\n",
    "class Employee:\n",
    "    \n",
    "    def __init__(self, name, id_number):\n",
    "        self.name = name\n",
    "        self.id_number = id_number\n",
    "        \n",
    "    def greet (self):\n",
    "        return f'Hello, {self.name}!'\n",
    "    \n",
    "\n",
    "e1 = Employee('emp1', 1)\n",
    "e2 = Employee('emp2', 2)\n",
    "\n",
    "print(e1.greet())    \n",
    "print(e2.greet())  "
   ]
  },
  {
   "cell_type": "markdown",
   "id": "ae1b6ec6",
   "metadata": {},
   "source": [
    "This works but...wouldn't it be better if we used **inheritance**?\n",
    "\n",
    "&#x1F926;"
   ]
  },
  {
   "cell_type": "code",
   "execution_count": 22,
   "id": "1914e182",
   "metadata": {},
   "outputs": [
    {
     "name": "stdout",
     "output_type": "stream",
     "text": [
      "Hello, emp1!\n",
      "Hello, emp2!\n"
     ]
    }
   ],
   "source": [
    "# let's try again, except with inheritance\n",
    "\n",
    "class Employee(Person):    # inserts Person as parent into the ICPO attribute search\n",
    "    \n",
    "    def __init__(self, name, id_number):\n",
    "        self.name = name\n",
    "        self.id_number = id_number\n",
    "        \n",
    "    def greet (self):\n",
    "        return f'Hello, {self.name}!'\n",
    "    \n",
    "\n",
    "e1 = Employee('emp1', 1)\n",
    "e2 = Employee('emp2', 2)\n",
    "\n",
    "print(e1.greet())    # does e1 (instance) have the attribute greet? No.\n",
    "print(e2.greet())    # does Employee (class) have the attribute greet? Yes! We get back method object and execute it"
   ]
  },
  {
   "cell_type": "markdown",
   "id": "8acceb75",
   "metadata": {},
   "source": [
    "We have a solution using inheritance. But observe that the `greet` methods in `Person` and `Employee` are the same. This is definitely **not** dry &#127964;&#65039;"
   ]
  },
  {
   "cell_type": "code",
   "execution_count": 23,
   "id": "6a6ada29",
   "metadata": {},
   "outputs": [
    {
     "name": "stdout",
     "output_type": "stream",
     "text": [
      "Hello, emp1!\n",
      "Hello, emp2!\n"
     ]
    }
   ],
   "source": [
    "# Get rid of the greet method in Employee\n",
    "\n",
    "class Employee(Person):    \n",
    "    \n",
    "    def __init__(self, name, id_number):\n",
    "        self.name = name\n",
    "        self.id_number = id_number\n",
    "    \n",
    "\n",
    "e1 = Employee('emp1', 1)\n",
    "e2 = Employee('emp2', 2)\n",
    "\n",
    "print(e1.greet())    # does e1 (instance) have the attribute greet? No.\n",
    "print(e2.greet())    # does Employee (class) have the attribute greet? No.\n",
    "                     # does Person (parent) have the attribute greet? Yes! We get back method object and execute it"
   ]
  },
  {
   "cell_type": "markdown",
   "id": "4cf8485c",
   "metadata": {},
   "source": [
    "&#x1F192; Cool but why do we need to set `self.name` in `Employee.__init__`? Couldn't we just rely on `Person.__init__`?"
   ]
  },
  {
   "cell_type": "code",
   "execution_count": 24,
   "id": "3f6f578c",
   "metadata": {},
   "outputs": [
    {
     "ename": "AttributeError",
     "evalue": "'Employee' object has no attribute 'name'",
     "output_type": "error",
     "traceback": [
      "\u001b[1;31m---------------------------------------------------------------------------\u001b[0m",
      "\u001b[1;31mAttributeError\u001b[0m                            Traceback (most recent call last)",
      "Cell \u001b[1;32mIn[24], line 13\u001b[0m\n\u001b[0;32m     10\u001b[0m e1 \u001b[38;5;241m=\u001b[39m Employee(\u001b[38;5;124m'\u001b[39m\u001b[38;5;124memp1\u001b[39m\u001b[38;5;124m'\u001b[39m, \u001b[38;5;241m1\u001b[39m)\n\u001b[0;32m     11\u001b[0m e2 \u001b[38;5;241m=\u001b[39m Employee(\u001b[38;5;124m'\u001b[39m\u001b[38;5;124memp2\u001b[39m\u001b[38;5;124m'\u001b[39m, \u001b[38;5;241m2\u001b[39m)\n\u001b[1;32m---> 13\u001b[0m \u001b[38;5;28mprint\u001b[39m(e1\u001b[38;5;241m.\u001b[39mgreet())    \u001b[38;5;66;03m# does e1 (instance) have the attribute greet? No.\u001b[39;00m\n\u001b[0;32m     14\u001b[0m \u001b[38;5;28mprint\u001b[39m(e2\u001b[38;5;241m.\u001b[39mgreet())\n",
      "Cell \u001b[1;32mIn[20], line 9\u001b[0m, in \u001b[0;36mPerson.greet\u001b[1;34m(self)\u001b[0m\n\u001b[0;32m      8\u001b[0m \u001b[38;5;28;01mdef\u001b[39;00m \u001b[38;5;21mgreet\u001b[39m (\u001b[38;5;28mself\u001b[39m):\n\u001b[1;32m----> 9\u001b[0m     \u001b[38;5;28;01mreturn\u001b[39;00m \u001b[38;5;124mf\u001b[39m\u001b[38;5;124m'\u001b[39m\u001b[38;5;124mHello, \u001b[39m\u001b[38;5;132;01m{\u001b[39;00m\u001b[38;5;28mself\u001b[39m\u001b[38;5;241m.\u001b[39mname\u001b[38;5;132;01m}\u001b[39;00m\u001b[38;5;124m!\u001b[39m\u001b[38;5;124m'\u001b[39m\n",
      "\u001b[1;31mAttributeError\u001b[0m: 'Employee' object has no attribute 'name'"
     ]
    }
   ],
   "source": [
    "# Get rid of self.name in Employee\n",
    "\n",
    "class Employee(Person):    \n",
    "    \n",
    "    def __init__(self, name, id_number):\n",
    "\n",
    "        self.id_number = id_number\n",
    "    \n",
    "\n",
    "e1 = Employee('emp1', 1)\n",
    "e2 = Employee('emp2', 2)\n",
    "\n",
    "print(e1.greet())    # does e1 (instance) have the attribute greet? No.\n",
    "print(e2.greet())    # does Employee (class) have the attribute greet? No.\n",
    "                     # does Person (parent) have the attribute greet? Yes! We get back method object and execute it"
   ]
  },
  {
   "cell_type": "markdown",
   "id": "d5011b4d",
   "metadata": {},
   "source": [
    "No. Why the error? &#x274C; \n",
    "\n",
    "> The `name` attribute was **never** set because we never got to `Person.__init__`"
   ]
  },
  {
   "cell_type": "markdown",
   "id": "5bbcc1b8",
   "metadata": {},
   "source": [
    "When a new instance of `Employee` is created, we ask:\n",
    "\n",
    "> **I**nstance: does `e1` have `__init__`? No &#x26D4;\n",
    "\n",
    "> **C**lass: does `Employee` have `__init__`? Yes &#x2705;"
   ]
  },
  {
   "cell_type": "markdown",
   "id": "6f55e84a",
   "metadata": {},
   "source": [
    "`Employee.__init__` runs, setting `self.id_number`. Because `Employee__init__` is found, `Person.__init__` never runs and `name` isn't added!"
   ]
  },
  {
   "cell_type": "code",
   "execution_count": 25,
   "id": "8dd4f9ed",
   "metadata": {},
   "outputs": [
    {
     "name": "stdout",
     "output_type": "stream",
     "text": [
      "Hello, emp1!\n",
      "Hello, emp2!\n"
     ]
    }
   ],
   "source": [
    "# solution 1\n",
    "# explicitly call Person.__init__\n",
    "\n",
    "class Employee(Person):    \n",
    "    \n",
    "    def __init__(self, name, id_number):\n",
    "        Person.__init__(self, name)\n",
    "        self.id_number = id_number\n",
    "    \n",
    "\n",
    "e1 = Employee('emp1', 1)\n",
    "e2 = Employee('emp2', 2)\n",
    "\n",
    "print(e1.greet())   \n",
    "print(e2.greet())"
   ]
  },
  {
   "cell_type": "markdown",
   "id": "09c74254",
   "metadata": {},
   "source": [
    "This works but it's better to use `super`  &#x1f9b8; &#x200d; \n",
    "\n",
    "What is `super`?\n",
    "\n",
    "> `Super` &#x1f9b8; &#x200d; is a proxy which says \"I will figure out who we can run `__init__` on\". It looks up the chain \t&#9939;"
   ]
  },
  {
   "cell_type": "code",
   "execution_count": 26,
   "id": "03fab291",
   "metadata": {},
   "outputs": [
    {
     "name": "stdout",
     "output_type": "stream",
     "text": [
      "Hello, emp1!\n",
      "Hello, emp2!\n"
     ]
    }
   ],
   "source": [
    "# solution 2\n",
    "# use super()\n",
    "\n",
    "class Employee(Person):    \n",
    "    \n",
    "    def __init__(self, name, id_number):\n",
    "        super().__init__(name)\n",
    "        self.id_number = id_number\n",
    "    \n",
    "\n",
    "e1 = Employee('emp1', 1)\n",
    "e2 = Employee('emp2', 2)\n",
    "\n",
    "print(e1.greet())   \n",
    "print(e2.greet())"
   ]
  },
  {
   "cell_type": "markdown",
   "id": "3e8ac254",
   "metadata": {},
   "source": [
    "# 🖨️ Print <a id=\"print\"></a>"
   ]
  },
  {
   "cell_type": "markdown",
   "id": "9cbb2d9b",
   "metadata": {},
   "source": [
    "What happens when I print `p1` or `e1`?"
   ]
  },
  {
   "cell_type": "code",
   "execution_count": 27,
   "id": "4458a204",
   "metadata": {},
   "outputs": [
    {
     "name": "stdout",
     "output_type": "stream",
     "text": [
      "<__main__.Person object at 0x0000019D7DFA9F90>\n",
      "<__main__.Employee object at 0x0000019D7EC8C1D0>\n"
     ]
    }
   ],
   "source": [
    "print(p1)\n",
    "print(e1)"
   ]
  },
  {
   "cell_type": "markdown",
   "id": "33244015",
   "metadata": {},
   "source": [
    "Why so ugly? &#x1F922; \n",
    "\n",
    "> Calling `print` invokes `str`, which calls the `__str__` method"
   ]
  },
  {
   "cell_type": "markdown",
   "id": "408bfe27",
   "metadata": {},
   "source": [
    "For `p1`\n",
    "\n",
    "> **I**nstance: does `p1` have `__str__`? No &#x26D4;\n",
    "\n",
    "> **C**lass: does `p1`'s class (`Person`) have `__str__`? No &#x26D4;\n",
    "\n",
    "> **O**bject: does object have `__str__`? Yes! &#x2705;\n",
    "\n",
    "So we get the default (&#x1F922;) implementation of `__str__`"
   ]
  },
  {
   "cell_type": "markdown",
   "id": "4cfabec6",
   "metadata": {},
   "source": [
    "Similarly for `e1`\n",
    "\n",
    "> **I**nstance: does `e1` have `__str__`? No &#x26D4;\n",
    "\n",
    "> **C**lass: does `e1`'s class (`Employee`) have `__str__`? No &#x26D4;\n",
    "\n",
    "> **P**arent: does `e1`'s class's parent (`Person`) have `__str__`? No &#x26D4;\n",
    "\n",
    "> **O**bject: does object have `__str__`? Yes! &#x2705;"
   ]
  },
  {
   "cell_type": "markdown",
   "id": "8295de00",
   "metadata": {},
   "source": [
    "# &#x2797;  Operator overloading <a id=\"ops\"></a>"
   ]
  },
  {
   "cell_type": "markdown",
   "id": "328f40ab",
   "metadata": {},
   "source": [
    "Attribute lookup &#128064; is the reason that operator overloading works.\n",
    "\n",
    "If we define `__str__` in a class, we stop ICPO at an earlier stage than **O**bject."
   ]
  },
  {
   "cell_type": "markdown",
   "id": "8db59263",
   "metadata": {},
   "source": [
    "# &#x1F4DD; Method rewriting <a id=\"rewriting\"></a>"
   ]
  },
  {
   "cell_type": "code",
   "execution_count": 28,
   "id": "74651097",
   "metadata": {},
   "outputs": [
    {
     "data": {
      "text/plain": [
       "'ZOE'"
      ]
     },
     "execution_count": 28,
     "metadata": {},
     "output_type": "execute_result"
    }
   ],
   "source": [
    "# the normal way to invoke a method\n",
    "\n",
    "s = 'zoe'\n",
    "s.upper()    # ask for upper att. on instance \n",
    "             # doesn't expect an argument"
   ]
  },
  {
   "cell_type": "code",
   "execution_count": 29,
   "id": "c6542b55",
   "metadata": {},
   "outputs": [
    {
     "data": {
      "text/plain": [
       "'ZOE'"
      ]
     },
     "execution_count": 29,
     "metadata": {},
     "output_type": "execute_result"
    }
   ],
   "source": [
    "# an alternative way, which yields the same result\n",
    "\n",
    "str.upper(s)    # ask for upper att. on class\n",
    "                # expects instance as an argument"
   ]
  },
  {
   "cell_type": "markdown",
   "id": "f2d3c943",
   "metadata": {},
   "source": [
    "We know:\n",
    "\n",
    "1. Methods are stored in class attributes\n",
    "\n",
    "2. We can retrieve a class attribute via the class or the instance\n",
    "\n",
    "But we're getting **different** behaviour depending on how we retrieve it!"
   ]
  },
  {
   "cell_type": "code",
   "execution_count": 30,
   "id": "6bef02fd",
   "metadata": {},
   "outputs": [
    {
     "data": {
      "text/plain": [
       "<function __main__.Person.greet(self)>"
      ]
     },
     "execution_count": 30,
     "metadata": {},
     "output_type": "execute_result"
    }
   ],
   "source": [
    "# let's ask\n",
    "Person.greet"
   ]
  },
  {
   "cell_type": "code",
   "execution_count": 31,
   "id": "98d86ca7",
   "metadata": {},
   "outputs": [
    {
     "data": {
      "text/plain": [
       "<bound method Person.greet of <__main__.Person object at 0x0000019D7DFA9F90>>"
      ]
     },
     "execution_count": 31,
     "metadata": {},
     "output_type": "execute_result"
    }
   ],
   "source": [
    "p1.greet"
   ]
  },
  {
   "cell_type": "markdown",
   "id": "15b72701",
   "metadata": {},
   "source": [
    "What's going on? Descriptors &#128213;"
   ]
  },
  {
   "cell_type": "markdown",
   "id": "e3c66c13",
   "metadata": {},
   "source": [
    "# &#128213; Descriptors <a id=\"desc\"></a>"
   ]
  },
  {
   "cell_type": "markdown",
   "id": "d9cef93e",
   "metadata": {},
   "source": [
    "Normally, when I retrieve a class attribute, I recieve the object stored in the attribute. \n",
    "\n",
    "But\n",
    "> If the attribute's class has a `__get__` method, then the result of `__get__` is returned instead!"
   ]
  },
  {
   "cell_type": "code",
   "execution_count": 32,
   "id": "f8408803",
   "metadata": {},
   "outputs": [],
   "source": [
    "# Example\n",
    "\n",
    "class LoudNumber:\n",
    "    \n",
    "    def __init__(self, n):\n",
    "        print(f'In LoudNumber.__init__, {n=}')\n",
    "        self.n = n \n",
    "        \n",
    "    def __get__(self, *args):\n",
    "        print(f'In LoudNumber.__get__, {self.n=}')\n",
    "        return self.n"
   ]
  },
  {
   "cell_type": "markdown",
   "id": "8ee317c7",
   "metadata": {},
   "source": [
    "If I assign an instance of `LoudNumber` to a variable, nothing happens. But if I assign it to a **class attribute**, magic happens &#129497;&#8205;&#9794;&#65039; &#10024; "
   ]
  },
  {
   "cell_type": "code",
   "execution_count": 33,
   "id": "3b4415a1",
   "metadata": {},
   "outputs": [
    {
     "name": "stdout",
     "output_type": "stream",
     "text": [
      "In LoudNumber.__init__, n=25\n"
     ]
    }
   ],
   "source": [
    "# assign it to a class attribute\n",
    "\n",
    "class Person:\n",
    "    age = LoudNumber(25)"
   ]
  },
  {
   "cell_type": "markdown",
   "id": "dd2dcfb5",
   "metadata": {},
   "source": [
    "This output since, when a class is defined, the definition is run &#x1F3C3; "
   ]
  },
  {
   "cell_type": "code",
   "execution_count": 34,
   "id": "13b2046a",
   "metadata": {},
   "outputs": [],
   "source": [
    "# create an instance of Person\n",
    "p = Person()"
   ]
  },
  {
   "cell_type": "markdown",
   "id": "6c865845",
   "metadata": {},
   "source": [
    "What's happening here? &#128173;\n",
    "\n",
    "> We have `Person`, which refers to the person class. It has an attribute, `age`, taking the value an instance of `LoudNumber` (25)\n",
    "\n",
    "Hint: use [Python tutor](https://pythontutor.com/) &#x1F4F9; "
   ]
  },
  {
   "cell_type": "code",
   "execution_count": 37,
   "id": "fe4b66e7",
   "metadata": {},
   "outputs": [
    {
     "name": "stdout",
     "output_type": "stream",
     "text": [
      "In LoudNumber.__get__, self.n=25\n"
     ]
    },
    {
     "data": {
      "text/plain": [
       "25"
      ]
     },
     "execution_count": 37,
     "metadata": {},
     "output_type": "execute_result"
    }
   ],
   "source": [
    "# Retreive the value (class attribute)\n",
    "# 1. via the instance\n",
    "# 2. via the class\n",
    "\n",
    "p.age"
   ]
  },
  {
   "cell_type": "code",
   "execution_count": 38,
   "id": "0b605e4b",
   "metadata": {},
   "outputs": [
    {
     "name": "stdout",
     "output_type": "stream",
     "text": [
      "In LoudNumber.__get__, self.n=25\n"
     ]
    },
    {
     "data": {
      "text/plain": [
       "25"
      ]
     },
     "execution_count": 38,
     "metadata": {},
     "output_type": "execute_result"
    }
   ],
   "source": [
    "Person.age"
   ]
  },
  {
   "cell_type": "markdown",
   "id": "d129cdda",
   "metadata": {},
   "source": [
    "Observe\n",
    "\n",
    "> We **didn't** use parentheses. This means the method shouldn't have been invoked - but it was &#129497;&#8205;&#9794;&#65039; &#10024; "
   ]
  },
  {
   "cell_type": "markdown",
   "id": "a4dfbc1b",
   "metadata": {},
   "source": [
    "# 📥 `__get__` <a id=\"get\"></a>"
   ]
  },
  {
   "cell_type": "markdown",
   "id": "7bb15f38",
   "metadata": {},
   "source": [
    "What are the parameters of `__get__` ?\n",
    "\n",
    "> `obj` : from what instance is this attribute being retrieved?\n",
    "\n",
    "> `objtype` : in what class is this attribute stored?"
   ]
  },
  {
   "cell_type": "code",
   "execution_count": 39,
   "id": "db0e313c",
   "metadata": {},
   "outputs": [],
   "source": [
    "# let's plug them in\n",
    "\n",
    "class LoudNumber:\n",
    "    \n",
    "    def __init__(self, n):\n",
    "        print(f'In LoudNumber.__init__, {n=}')\n",
    "        self.n = n \n",
    "        \n",
    "    def __get__(self, obj, objtype):\n",
    "        print(f'Also : {obj=}, {objtype=}')\n",
    "        print(f'In LoudNumber.__get__, {self.n=}')\n",
    "        return self.n"
   ]
  },
  {
   "cell_type": "code",
   "execution_count": 40,
   "id": "f5872a45",
   "metadata": {},
   "outputs": [
    {
     "name": "stdout",
     "output_type": "stream",
     "text": [
      "In LoudNumber.__init__, n=25\n"
     ]
    }
   ],
   "source": [
    "# and see the difference\n",
    "\n",
    "class Person:\n",
    "    age = LoudNumber(25)"
   ]
  },
  {
   "cell_type": "code",
   "execution_count": 41,
   "id": "f4dfaf80",
   "metadata": {},
   "outputs": [
    {
     "name": "stdout",
     "output_type": "stream",
     "text": [
      "Also : obj=<__main__.Person object at 0x0000019D7EC5A710>, objtype=<class '__main__.Person'>\n",
      "In LoudNumber.__get__, self.n=25\n"
     ]
    },
    {
     "data": {
      "text/plain": [
       "25"
      ]
     },
     "execution_count": 41,
     "metadata": {},
     "output_type": "execute_result"
    }
   ],
   "source": [
    "p = Person()    # class att. defined on Person (objtype)\n",
    "p.age           # retrieve via p, the instance (obj)"
   ]
  },
  {
   "cell_type": "code",
   "execution_count": 42,
   "id": "633d4e86",
   "metadata": {},
   "outputs": [
    {
     "name": "stdout",
     "output_type": "stream",
     "text": [
      "Also : obj=None, objtype=<class '__main__.Person'>\n",
      "In LoudNumber.__get__, self.n=25\n"
     ]
    },
    {
     "data": {
      "text/plain": [
       "25"
      ]
     },
     "execution_count": 42,
     "metadata": {},
     "output_type": "execute_result"
    }
   ],
   "source": [
    "Person.age    # class att. defined on Person (objtype)\n",
    "              # retrieve via Person, the class (obj)"
   ]
  },
  {
   "cell_type": "markdown",
   "id": "e8296e93",
   "metadata": {},
   "source": [
    "# 👨‍🍳 Methods are descriptors <a id=\"meth_r_desc\"></a>"
   ]
  },
  {
   "cell_type": "markdown",
   "id": "330866ab",
   "metadata": {},
   "source": [
    "When we retrieve a method via the **class**, Python returns the original function we defined. It knows because `obj` is set to None. \n",
    "\n",
    "Thus we need to supply an instance as the first argument."
   ]
  },
  {
   "cell_type": "code",
   "execution_count": 43,
   "id": "aa626d63",
   "metadata": {},
   "outputs": [
    {
     "data": {
      "text/plain": [
       "'WILD WORLD'"
      ]
     },
     "execution_count": 43,
     "metadata": {},
     "output_type": "execute_result"
    }
   ],
   "source": [
    "# Example\n",
    "\n",
    "s = 'wild world'\n",
    "str.upper(s)"
   ]
  },
  {
   "cell_type": "markdown",
   "id": "6d86e177",
   "metadata": {},
   "source": [
    "In contrast, when we retrieve a method via an **instance**, Python does magic rewriting &#129497;&#8205;&#9794;&#65039; &#x270D; \n",
    "\n",
    "Specifically, it turns `obj` - the instance on which we ran the method - into the first argument (`self`)  \n",
    "\n",
    "How does Python &#x1F40D; achieve this? Partial functions!"
   ]
  },
  {
   "cell_type": "markdown",
   "id": "d652bb64",
   "metadata": {},
   "source": [
    "# &#x1F313; Partial functions <a id=\"partial\"></a>"
   ]
  },
  {
   "cell_type": "markdown",
   "id": "67c28176",
   "metadata": {},
   "source": [
    "A partial function is a function with some arguments \"pre-loaded\" &#128299;"
   ]
  },
  {
   "cell_type": "code",
   "execution_count": 44,
   "id": "f36bbe05",
   "metadata": {},
   "outputs": [
    {
     "data": {
      "text/plain": [
       "13"
      ]
     },
     "execution_count": 44,
     "metadata": {},
     "output_type": "execute_result"
    }
   ],
   "source": [
    "# Example\n",
    "\n",
    "from functools import partial\n",
    "\n",
    "def add(a, b):\n",
    "    return a + b\n",
    "\n",
    "add3 = partial(add, 3)    # preload first arg 3 onto add\n",
    "\n",
    "add3(10)"
   ]
  },
  {
   "cell_type": "markdown",
   "id": "ded01b1f",
   "metadata": {},
   "source": [
    "This is the **same** situation as ours. \n",
    "\n",
    "When we invoke a method via the instance, Python uses `partial` to automatically assign (or bind &#129657;) that instance to the method. \n"
   ]
  },
  {
   "cell_type": "code",
   "execution_count": 45,
   "id": "939c92ce",
   "metadata": {},
   "outputs": [
    {
     "data": {
      "text/plain": [
       "<function __main__.Person.greet(self)>"
      ]
     },
     "execution_count": 45,
     "metadata": {},
     "output_type": "execute_result"
    }
   ],
   "source": [
    "# Remember this?\n",
    "\n",
    "class Person:\n",
    "    \n",
    "    def __init__(self, name):\n",
    "        self.name = name\n",
    "        \n",
    "    def greet (self):\n",
    "        return f'Hello, {self.name}!'\n",
    "    \n",
    "\n",
    "p1 = Person('name1')\n",
    "p2 = Person('name2')\n",
    "\n",
    "Person.greet"
   ]
  },
  {
   "cell_type": "code",
   "execution_count": 46,
   "id": "739932a0",
   "metadata": {},
   "outputs": [
    {
     "data": {
      "text/plain": [
       "<bound method Person.greet of <__main__.Person object at 0x0000019D7DF28990>>"
      ]
     },
     "execution_count": 46,
     "metadata": {},
     "output_type": "execute_result"
    }
   ],
   "source": [
    "p1.greet"
   ]
  },
  {
   "cell_type": "markdown",
   "id": "1ad6a276",
   "metadata": {},
   "source": [
    "Observe &#128064;\n",
    "\n",
    "```python\n",
    "bound method\n",
    "```"
   ]
  },
  {
   "cell_type": "markdown",
   "id": "1fb59a66",
   "metadata": {},
   "source": [
    "Python &#x1F40D; is literally telling us what's happening! But it's hard to understand if we don't first understand attributes."
   ]
  },
  {
   "cell_type": "markdown",
   "id": "841baeb4",
   "metadata": {},
   "source": [
    "**Where's the OG (original `greet`)?**"
   ]
  },
  {
   "cell_type": "markdown",
   "id": "b9093da7",
   "metadata": {},
   "source": [
    "Moved and stored on another class attribute, `__dict__`\n",
    "\n",
    "```python\n",
    "{ \"method name\" : \"original function\" }\n",
    "```\n",
    "\n"
   ]
  },
  {
   "cell_type": "markdown",
   "id": "f177aca7",
   "metadata": {},
   "source": [
    "In summary\n",
    "\n",
    "> Ask for a method via the class: `obj` is **None** and method descriptor returns og &#x1F4B3; function from `__dict__`\n",
    "\n",
    "> Ask for a method via the instance: `obj` is **not** None. Python &#x1F40D; creates a partial &#x1F313;   with instance + function and returns them together. This is our method &#128104;&#8205;&#127859;"
   ]
  },
  {
   "cell_type": "markdown",
   "id": "0766488d",
   "metadata": {},
   "source": [
    "# &#x1F381; Wrapping up <a id=\"wrap\"></a>"
   ]
  },
  {
   "cell_type": "markdown",
   "id": "b2da5c83",
   "metadata": {},
   "source": [
    "> Attributes give us: class attributes, inheritance and method rewriting &#129497;&#8205;&#9794;&#65039; &#x270D; \n",
    "  \n",
    "> Python &#x1F40D; looks for our attribute via ICPO &#128064;\n",
    "\n",
    "> Attributes can be descriptors &#128213;\n",
    "\n",
    "> Descriptors allow us to use methods via the instance or class &#127891;"
   ]
  },
  {
   "cell_type": "markdown",
   "id": "dfe68c6d",
   "metadata": {},
   "source": [
    "Never think of `a.b` the same again!"
   ]
  },
  {
   "cell_type": "markdown",
   "id": "4b87fd02",
   "metadata": {},
   "source": [
    "# The End!"
   ]
  },
  {
   "cell_type": "code",
   "execution_count": 1,
   "id": "a6fcdf7a",
   "metadata": {},
   "outputs": [
    {
     "data": {
      "text/html": [
       "<img src=\"https://media.giphy.com/media/m8w1PMQtDsWgtt6OLE/giphy.gif\"/>"
      ],
      "text/plain": [
       "<IPython.core.display.Image object>"
      ]
     },
     "execution_count": 1,
     "metadata": {},
     "output_type": "execute_result"
    }
   ],
   "source": [
    "from IPython.display import Image\n",
    "Image(url='https://media.giphy.com/media/m8w1PMQtDsWgtt6OLE/giphy.gif')"
   ]
  }
 ],
 "metadata": {
  "kernelspec": {
   "display_name": "Python 3 (ipykernel)",
   "language": "python",
   "name": "python3"
  },
  "language_info": {
   "codemirror_mode": {
    "name": "ipython",
    "version": 3
   },
   "file_extension": ".py",
   "mimetype": "text/x-python",
   "name": "python",
   "nbconvert_exporter": "python",
   "pygments_lexer": "ipython3",
   "version": "3.11.5"
  }
 },
 "nbformat": 4,
 "nbformat_minor": 5
}
