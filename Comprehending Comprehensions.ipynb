{
 "cells": [
  {
   "cell_type": "markdown",
   "id": "9ff8fc5a",
   "metadata": {},
   "source": [
    "# Comprehending Comprehensions "
   ]
  },
  {
   "cell_type": "markdown",
   "id": "c7a8d611",
   "metadata": {},
   "source": [
    "Based on the PyCon 2023 &#x1F40D; tutorial \"Reuven M. Lerner: Comprehending comprehensions\" \n",
    "\n",
    "&#x1F3AC; https://www.youtube.com/watch?v=qMv1ZD2V1A4 \n",
    "\n",
    "&#x1F47E; https://github.com/reuven/PyCon-04April-19-comprehensions"
   ]
  },
  {
   "cell_type": "markdown",
   "id": "f10d1ad4",
   "metadata": {},
   "source": [
    "## &#x1F4D6; Contents  "
   ]
  },
  {
   "cell_type": "markdown",
   "id": "1b897757",
   "metadata": {},
   "source": [
    "1. [What are comprehensions?](#what_comps) <br>\n",
    "\n",
    "2.  [List comprehensions](#list_comps) <br>\n",
    "2.1 [When to use a loop vs. a comprehension?](#when_comp) <br>\n",
    "2.2 [Exercises](#exs) <br>\n",
    "2.3 [Common mistakes](#mistakes) <br>\n",
    "\n",
    "\n",
    "3.  [List comprehensions and files](#list_and_files) <br>\n",
    "3.1 [Exercise: Sum numbers](#ex_sum_nums) <br>\n",
    "3.2 [Exercise: Shoe Dicts](#ex_shoe_dicts) <br>\n",
    "3.3 [Counter](#counter) <br>\n",
    "4. [Set comprehensions](#set_comps) <br>\n",
    "4.1 [Exercise: Sum unique numbers](#ex_sum_unique_nums) <br>\n",
    "4.2 [Exercise: Which shells?](#ex_shells)\n",
    "5. [Dictionary comprehensions](#dict_comps) <br>\n",
    "5.1 [Exercise: Usernames and shells](#ex_names_shells)\n",
    "6. [Nested list comprehensions](#nested_comps) <br>\n",
    "6.1 [Exercise: Movie genres](#ex_movie) <br>\n",
    "7. [Generator expressions](#gen_exp) <br>\n",
    "7.1 [What's a generator?](#what_gen) <br>\n",
    "7.2 [Scope](#scope)"
   ]
  },
  {
   "cell_type": "markdown",
   "id": "4d8a80a2",
   "metadata": {},
   "source": [
    "# &#x1F4A1;   What are comprehensions? <a class=\"anchor\" id=\"what_comps\"></a>"
   ]
  },
  {
   "cell_type": "code",
   "execution_count": 1,
   "id": "6197e177",
   "metadata": {},
   "outputs": [
    {
     "data": {
      "text/plain": [
       "[0, 1, 2, 3, 4, 5, 6, 7, 8, 9]"
      ]
     },
     "execution_count": 1,
     "metadata": {},
     "output_type": "execute_result"
    }
   ],
   "source": [
    "# Suppose I have a list of integers \n",
    "# and I want to create a list of those integers^2\n",
    "\n",
    "numbers = list(range(10))\n",
    "numbers"
   ]
  },
  {
   "cell_type": "code",
   "execution_count": 2,
   "id": "f7b5367d",
   "metadata": {},
   "outputs": [
    {
     "data": {
      "text/plain": [
       "[0, 1, 4, 9, 16, 25, 36, 49, 64, 81]"
      ]
     },
     "execution_count": 2,
     "metadata": {},
     "output_type": "execute_result"
    }
   ],
   "source": [
    "output = []\n",
    "\n",
    "for one_number in numbers:\n",
    "    output.append(one_number ** 2)\n",
    "    \n",
    "output"
   ]
  },
  {
   "cell_type": "code",
   "execution_count": 3,
   "id": "35e26f08",
   "metadata": {},
   "outputs": [
    {
     "data": {
      "text/plain": [
       "[0, 1, 4, 9, 16, 25, 36, 49, 64, 81]"
      ]
     },
     "execution_count": 3,
     "metadata": {},
     "output_type": "execute_result"
    }
   ],
   "source": [
    "# Is there an alternative method?\n",
    "# Yes! List comprehensions\n",
    "\n",
    "[one_number ** 2 for one_number in numbers]"
   ]
  },
  {
   "cell_type": "markdown",
   "id": "fd27643f",
   "metadata": {},
   "source": [
    "# &#x1F4CB;  List comprehensions <a id=\"list_comps\"></a>"
   ]
  },
  {
   "cell_type": "markdown",
   "id": "e65bdd1d",
   "metadata": {},
   "source": [
    "List comprehensions are easier to write (and understand) if we break them down and write them over multiple lines.\n",
    "\n",
    "In a comprehension, the &#x1F947; __first__ thing that runs is the loop and the &#x1F948; __second__ thing is the expression.\n",
    "\n",
    "The result of a list comprehension is a list. We have created a new list! And can pass it as an argument to a function or assign it to a variable.\n",
    "\n",
    "This new list is the result of evaluating our expression on every element of the input list. Hence the output list will have the same number of elements as the input list."
   ]
  },
  {
   "cell_type": "code",
   "execution_count": 4,
   "id": "6f6dd802",
   "metadata": {},
   "outputs": [
    {
     "data": {
      "text/plain": [
       "[0, 1, 4, 9, 16, 25, 36, 49, 64, 81]"
      ]
     },
     "execution_count": 4,
     "metadata": {},
     "output_type": "execute_result"
    }
   ],
   "source": [
    "[one_number ** 2             # expression -- can be any python expression!\n",
    " for one_number in numbers]  # iteration -- any python loop"
   ]
  },
  {
   "cell_type": "markdown",
   "id": "69ef0e28",
   "metadata": {},
   "source": [
    "> a python **expression** is anything that returns a value e.g. function call, method call, variable."
   ]
  },
  {
   "cell_type": "markdown",
   "id": "7fda8ec9",
   "metadata": {},
   "source": [
    "# &#x27B0; When to use a loop  vs. a comprehension? <a id=\"when_comp\"></a>"
   ]
  },
  {
   "cell_type": "markdown",
   "id": "70818c43",
   "metadata": {},
   "source": [
    "The distinction is between getting a new value back vs. incurring side effects. \n",
    "\n",
    "Meaning: if you have an existing list, and you want a new list *and* you can describe a mapping from the first to the second, then use a list comprehension.\n",
    "\n",
    "But if you are assigning and/or modifying repeatedly, then use a regular `for` loop."
   ]
  },
  {
   "cell_type": "code",
   "execution_count": 5,
   "id": "a3c6f7a2",
   "metadata": {},
   "outputs": [
    {
     "data": {
      "text/plain": [
       "'abcd*ef*ghi'"
      ]
     },
     "execution_count": 5,
     "metadata": {},
     "output_type": "execute_result"
    }
   ],
   "source": [
    "# Suppose I have a list of strings...\n",
    "\n",
    "mylist = ['abcd', 'ef', 'ghi']\n",
    "\n",
    "# ...and I want a new list based on mylist with '*' between the elements\n",
    "\n",
    "'*'.join(mylist)"
   ]
  },
  {
   "cell_type": "code",
   "execution_count": 6,
   "id": "93ec33c8",
   "metadata": {},
   "outputs": [],
   "source": [
    "# What if I have a list of integers?"
   ]
  },
  {
   "cell_type": "markdown",
   "id": "464353fe",
   "metadata": {},
   "source": [
    "```python\n",
    "mylist = [10, 20, 30]\n",
    "\n",
    "'*'.join(mylist)\n",
    "```"
   ]
  },
  {
   "cell_type": "markdown",
   "id": "03ac44bd",
   "metadata": {},
   "source": [
    "Bad news -- we get an error! &#x274C; This is because:"
   ]
  },
  {
   "cell_type": "markdown",
   "id": "b1327eef",
   "metadata": {},
   "source": [
    "> `.join` expects it's argument to be an iterable of strings."
   ]
  },
  {
   "cell_type": "code",
   "execution_count": 7,
   "id": "85e9c72f",
   "metadata": {},
   "outputs": [
    {
     "data": {
      "text/plain": [
       "['abcd', 'ef', 'ghi']"
      ]
     },
     "execution_count": 7,
     "metadata": {},
     "output_type": "execute_result"
    }
   ],
   "source": [
    "# We have: a list of integers\n",
    "# We want: a list of strings\n",
    "# We can convert one int to one string with str()\n",
    "\n",
    "[str(one_item)\n",
    "for one_item in mylist]"
   ]
  },
  {
   "cell_type": "code",
   "execution_count": 8,
   "id": "a2a215ac",
   "metadata": {},
   "outputs": [
    {
     "data": {
      "text/plain": [
       "'abcd*ef*ghi'"
      ]
     },
     "execution_count": 8,
     "metadata": {},
     "output_type": "execute_result"
    }
   ],
   "source": [
    "'*'.join([str(one_item)\n",
    "         for one_item in mylist])"
   ]
  },
  {
   "cell_type": "code",
   "execution_count": 9,
   "id": "6d2246f2",
   "metadata": {},
   "outputs": [
    {
     "data": {
      "text/plain": [
       "'I Caught A Horse Mackerel! Nay!? Yay!'"
      ]
     },
     "execution_count": 9,
     "metadata": {},
     "output_type": "execute_result"
    }
   ],
   "source": [
    "# Suppose I have a string and\n",
    "# I want to capitalise the start of each word\n",
    "\n",
    "s = 'I caught a horse mackerel! Nay!? Yay!'\n",
    "\n",
    "s.title()"
   ]
  },
  {
   "cell_type": "code",
   "execution_count": 10,
   "id": "11f4e192",
   "metadata": {},
   "outputs": [
    {
     "data": {
      "text/plain": [
       "['I', 'Caught', 'A', 'Horse', 'Mackerel!', 'Nay!?', 'Yay!']"
      ]
     },
     "execution_count": 10,
     "metadata": {},
     "output_type": "execute_result"
    }
   ],
   "source": [
    "# Cool. But what if str.title didn't exist? \n",
    "# Could I still do something like this? Yes!\n",
    "\n",
    "# What if I were to break the string\n",
    "# into individual words?\n",
    "\n",
    "# I have: a list of strings\n",
    "# I want: a list of strings whose first letters are capitalised\n",
    "# I can use: str.capitalize\n",
    "\n",
    "[one_word.capitalize()\n",
    "for one_word in s.split()]"
   ]
  },
  {
   "cell_type": "code",
   "execution_count": 11,
   "id": "ac865f9c",
   "metadata": {},
   "outputs": [
    {
     "data": {
      "text/plain": [
       "'I Caught A Horse Mackerel! Nay!? Yay!'"
      ]
     },
     "execution_count": 11,
     "metadata": {},
     "output_type": "execute_result"
    }
   ],
   "source": [
    "' '.join([one_word.capitalize()\n",
    "            for one_word in s.split()])"
   ]
  },
  {
   "cell_type": "markdown",
   "id": "1a327bd9",
   "metadata": {},
   "source": [
    "> Use comprehensions to break big things apart &#x1F4A3; , apply an expression to each element &#x1F3AD; and then put them back together &#x1FA79;. \n",
    "\n",
    "> `.split` and `.join` are our best friends! &#x1F496;"
   ]
  },
  {
   "cell_type": "markdown",
   "id": "59973308",
   "metadata": {},
   "source": [
    "# &#x1F4DD; Exercises: <a id=\"exs\"></a>"
   ]
  },
  {
   "cell_type": "markdown",
   "id": "8b1b7c9c",
   "metadata": {},
   "source": [
    "1. Ask the user to enter a string containing numbers, separated by spaces. Add those numbers together (as integers) and print the result. It's OK to use the built-in `sum` function.\n",
    "\n",
    "2. Ask the user to enter a string and print the length of the string -- except for whitespace. It's *not* OK to use `str.replace()`.\n",
    "\n",
    "But first a note on `.strip()`"
   ]
  },
  {
   "cell_type": "markdown",
   "id": "257e4b98",
   "metadata": {},
   "source": [
    "> `.strip()` removes the whitespace from either side of a string but **not** the whitespace in the middle."
   ]
  },
  {
   "cell_type": "code",
   "execution_count": 12,
   "id": "2dfe5495",
   "metadata": {},
   "outputs": [
    {
     "data": {
      "text/plain": [
       "'z o e'"
      ]
     },
     "execution_count": 12,
     "metadata": {},
     "output_type": "execute_result"
    }
   ],
   "source": [
    "# Example\n",
    "s= '   z o e   '\n",
    "s.strip()"
   ]
  },
  {
   "cell_type": "code",
   "execution_count": 13,
   "id": "55d199f3",
   "metadata": {},
   "outputs": [],
   "source": [
    "# 1. s = input('Enter numbers, separated by whitespace: ').strip()\n",
    "# This is taking ages to run...improvise!\n",
    "\n",
    "s = \"4 13 25 57 89\"\n",
    "\n",
    "# sum(s)"
   ]
  },
  {
   "cell_type": "markdown",
   "id": "16ef0f72",
   "metadata": {},
   "source": [
    "> Summing `s` yields an error &#x274C; because python is trying to do $0$ $+$ `str`"
   ]
  },
  {
   "cell_type": "code",
   "execution_count": 14,
   "id": "3be5c5fe",
   "metadata": {},
   "outputs": [
    {
     "data": {
      "text/plain": [
       "[4, 13, 25, 57, 89]"
      ]
     },
     "execution_count": 14,
     "metadata": {},
     "output_type": "execute_result"
    }
   ],
   "source": [
    "# What I have: a list of strings, containing digits\n",
    "# What I want: the sum of the integers in that string\n",
    "# I can transform one to the other using int\n",
    "\n",
    "[int(one_item)\n",
    "for one_item in s.split()]"
   ]
  },
  {
   "cell_type": "code",
   "execution_count": 15,
   "id": "91b36131",
   "metadata": {},
   "outputs": [
    {
     "data": {
      "text/plain": [
       "188"
      ]
     },
     "execution_count": 15,
     "metadata": {},
     "output_type": "execute_result"
    }
   ],
   "source": [
    "sum([int(one_item)\n",
    "    for one_item in s.split()])"
   ]
  },
  {
   "cell_type": "code",
   "execution_count": 16,
   "id": "16aab2fb",
   "metadata": {},
   "outputs": [
    {
     "data": {
      "text/plain": [
       "49"
      ]
     },
     "execution_count": 16,
     "metadata": {},
     "output_type": "execute_result"
    }
   ],
   "source": [
    "# 2. Find the lengths of the words (not the whitespaces) in the user's input\n",
    "# still having issues...\n",
    "# s = input('Enter a sentence: ').strip()\n",
    "\n",
    "s = \"I caught a walker cicada! These guys chirp funny!\"\n",
    "\n",
    "len(s) # how many characters in the entire sentence?"
   ]
  },
  {
   "cell_type": "code",
   "execution_count": 17,
   "id": "5f3824e2",
   "metadata": {},
   "outputs": [
    {
     "data": {
      "text/plain": [
       "41"
      ]
     },
     "execution_count": 17,
     "metadata": {},
     "output_type": "execute_result"
    }
   ],
   "source": [
    "# How long is this, if we ignore the whitespace?\n",
    "\n",
    "# If we use s.split(), we get a list of strings\n",
    "# without any whitespace\n",
    "\n",
    "# I have: a list of strings\n",
    "# I want: the sum of their lengths\n",
    "# I can apply: len\n",
    "\n",
    "sum([len(one_word)\n",
    "    for one_word in s.split()])"
   ]
  },
  {
   "cell_type": "code",
   "execution_count": 18,
   "id": "39e8029a",
   "metadata": {},
   "outputs": [
    {
     "data": {
      "text/plain": [
       "[4, 13, 25, 57, 89]"
      ]
     },
     "execution_count": 18,
     "metadata": {},
     "output_type": "execute_result"
    }
   ],
   "source": [
    "# SQL analogy\n",
    "\n",
    "s = \"4 13 25 57 89\"\n",
    "\n",
    "[int(one_item)             # expression -- SELECT\n",
    "for one_item in s.split()] # iteration -- FROM"
   ]
  },
  {
   "cell_type": "markdown",
   "id": "9fd7bc83",
   "metadata": {},
   "source": [
    "# &#x274C; **Common mistake!** <a id=\"mistakes\"></a>"
   ]
  },
  {
   "cell_type": "code",
   "execution_count": 19,
   "id": "6c37461b",
   "metadata": {},
   "outputs": [
    {
     "name": "stdout",
     "output_type": "stream",
     "text": [
      "*c'est*\n",
      "*fantastique*\n"
     ]
    },
    {
     "data": {
      "text/plain": [
       "[None, None]"
      ]
     },
     "execution_count": 19,
     "metadata": {},
     "output_type": "execute_result"
    }
   ],
   "source": [
    "# I have a string with words \n",
    "# and I want to print each word with stars around it!\n",
    "\n",
    "s = \"c'est fantastique\"\n",
    "\n",
    "[print(f'*{one_word}*')\n",
    "for one_word in s.split()]"
   ]
  },
  {
   "cell_type": "markdown",
   "id": "9217e1c1",
   "metadata": {},
   "source": [
    "The list that a comprehension returns contains the values that the expression returned.\n",
    "\n",
    "> `print` **always** returns `None`\n",
    "\n",
    "Here, `print` worked OK but returned `None`, which affected our output comprehension. \n",
    "\n",
    "Don't use `print` inside a comprehension! &#x1F6AB;"
   ]
  },
  {
   "cell_type": "code",
   "execution_count": 20,
   "id": "3f673f95",
   "metadata": {},
   "outputs": [
    {
     "data": {
      "text/plain": [
       "[\"*c'est*\", '*fantastique*']"
      ]
     },
     "execution_count": 20,
     "metadata": {},
     "output_type": "execute_result"
    }
   ],
   "source": [
    "# Correct version\n",
    "\n",
    "[f'*{one_word}*'\n",
    "for one_word in s.split()]"
   ]
  },
  {
   "cell_type": "markdown",
   "id": "5df49656",
   "metadata": {},
   "source": [
    "# &#x1F4C1; List comprehensions and files <a class=\"anchor\" id=\"list_and_files\"></a>"
   ]
  },
  {
   "cell_type": "code",
   "execution_count": 21,
   "id": "4e1f9041",
   "metadata": {},
   "outputs": [],
   "source": [
    "# How about iterating over file-like-objects?\n",
    "# Use this technique with small files only!\n",
    "\n",
    "#!type linux-etc-passwd.txt\n",
    "[one_line\n",
    "for one_line in open('linux-etc-passwd.txt')];"
   ]
  },
  {
   "cell_type": "code",
   "execution_count": 22,
   "id": "831d8887",
   "metadata": {},
   "outputs": [],
   "source": [
    "# Can I get the usernames from this password file?\n",
    "# Yes!\n",
    "\n",
    "# Each record contains fields\n",
    "# fields are separated by ':'\n",
    "# the first field is the username\n",
    "\n",
    "[one_line.split(':')[0]\n",
    "for one_line in open('linux-etc-passwd.txt')];"
   ]
  },
  {
   "cell_type": "code",
   "execution_count": 23,
   "id": "d45a7715",
   "metadata": {},
   "outputs": [],
   "source": [
    "# SQL analogy extended\n",
    "\n",
    "[one_line.split(':')[0]                      # expression -- SELECT\n",
    "for one_line in open('linux-etc-passwd.txt') # iteration -- FROM\n",
    "if ':' in one_line];                         # condition -- WHERE"
   ]
  },
  {
   "cell_type": "markdown",
   "id": "9f2d813d",
   "metadata": {},
   "source": [
    "# &#x1F4DD; Exercise: Sum numbers <a id=\"ex_sum_nums\"></a>"
   ]
  },
  {
   "cell_type": "markdown",
   "id": "5e7f1ba8",
   "metadata": {},
   "source": [
    "Use a comprehension to read through `nums.txt`, and sum the numbers it contains.\n",
    "\n",
    "Each line of the file contains either zero integers or one integer. The integer may have whitespace before and/or after it. "
   ]
  },
  {
   "cell_type": "code",
   "execution_count": 24,
   "id": "b33ca4f7",
   "metadata": {},
   "outputs": [
    {
     "name": "stdout",
     "output_type": "stream",
     "text": [
      "5\n",
      "\t10     \n",
      "\t20\n",
      "  \t3\n",
      "\t\t   \t20        \n",
      "\n",
      " 25\n"
     ]
    }
   ],
   "source": [
    "!type nums.txt"
   ]
  },
  {
   "cell_type": "code",
   "execution_count": 25,
   "id": "f0abd481",
   "metadata": {},
   "outputs": [
    {
     "data": {
      "text/plain": [
       "83"
      ]
     },
     "execution_count": 25,
     "metadata": {},
     "output_type": "execute_result"
    }
   ],
   "source": [
    "# I have: a file whose lines (strings) contain numbers\n",
    "# I want: a list of numbers\n",
    "# transform from a string to an int with int()\n",
    "\n",
    "sum([int(one_line)                      \n",
    "    for one_line in open('nums.txt')\n",
    "    if one_line.strip()])   "
   ]
  },
  {
   "cell_type": "code",
   "execution_count": 26,
   "id": "5380e2c9",
   "metadata": {},
   "outputs": [
    {
     "data": {
      "text/plain": [
       "83"
      ]
     },
     "execution_count": 26,
     "metadata": {},
     "output_type": "execute_result"
    }
   ],
   "source": [
    "# Solution 2\n",
    "\n",
    "sum([int(one_line)\n",
    "    for one_line in open('nums.txt')\n",
    "    if one_line.strip().isdigit()]) # removes whitespace in edges and asks \n",
    "                                    # \"Hey string, are you truish or falsish?\" \n",
    "                                    # returns True if not an empty string"
   ]
  },
  {
   "cell_type": "code",
   "execution_count": 27,
   "id": "6c56c688",
   "metadata": {},
   "outputs": [
    {
     "data": {
      "text/plain": [
       "15"
      ]
     },
     "execution_count": 27,
     "metadata": {},
     "output_type": "execute_result"
    }
   ],
   "source": [
    "# I want to know how many vowels are in a string\n",
    "# How can I use comprehension for this?\n",
    "\n",
    "s = 'I caught a zebra turkeyfish! No gobbling those spines!'\n",
    "\n",
    "sum([1\n",
    "    for one_character in s\n",
    "    if one_character in 'aeiou'])"
   ]
  },
  {
   "cell_type": "markdown",
   "id": "e8e5aad4",
   "metadata": {},
   "source": [
    "# &#x1F4DD; Exercise: Shoe dicts  <a id=\"ex_shoe_dicts\"></a>"
   ]
  },
  {
   "cell_type": "markdown",
   "id": "2277fb4f",
   "metadata": {},
   "source": [
    "`shoe-data.txt` contains 100 lines. Each line contains three fields: brand, colour and size. Fields are separated by tabs `('\\t')`.\n",
    "\n",
    "Use a list comprehension to turn this file into a list of dictionaries. Each line should be turned into a dict whose keys are `brand`, `color` and `size`. The values can remain strings i.e. don't worry about the shoe sizes.\n",
    "\n",
    "I recommend that you write an external function that takes a string as input and returns a dict, then invoke this in your comprehension.\n",
    "\n",
    "The result will be a list like\n",
    "\n",
    "```python \n",
    "[\n",
    "    {'brand' : 'Hoka',\n",
    "    'color' : 'peach',\n",
    "    'size' : '38'},\n",
    "    ...\n",
    "]\n",
    "```"
   ]
  },
  {
   "cell_type": "code",
   "execution_count": 28,
   "id": "48499d02",
   "metadata": {},
   "outputs": [],
   "source": [
    "# A simple (not working) approach\n",
    "# !type shoe-data.txt\n",
    "\n",
    "def line_to_dict(one_line):\n",
    "    return one_line.strip().split('\\t')\n",
    "\n",
    "[line_to_dict(one_line)\n",
    "for one_line in open('shoe-data.txt')];"
   ]
  },
  {
   "cell_type": "code",
   "execution_count": 29,
   "id": "5bd70de6",
   "metadata": {},
   "outputs": [],
   "source": [
    "# A simple (working) approach\n",
    "\n",
    "def line_to_dict(one_line):\n",
    "    fields = one_line.strip().split('\\t')\n",
    "    return {'brand' : fields[0],\n",
    "           'color' : fields[1],\n",
    "           'size' : fields[2]}\n",
    "\n",
    "[line_to_dict(one_line)\n",
    "for one_line in open('shoe-data.txt')];"
   ]
  },
  {
   "cell_type": "code",
   "execution_count": 30,
   "id": "51acf3ac",
   "metadata": {},
   "outputs": [],
   "source": [
    "# Improve using unpacking\n",
    "\n",
    "def line_to_dict(one_line):\n",
    "    brand, color, size = one_line.strip().split('\\t')\n",
    "    return {'brand' : brand,\n",
    "           'color' : color,\n",
    "           'size' : size}\n",
    "\n",
    "[line_to_dict(one_line)\n",
    "for one_line in open('shoe-data.txt')];"
   ]
  },
  {
   "cell_type": "code",
   "execution_count": 31,
   "id": "9b4b82af",
   "metadata": {
    "scrolled": false
   },
   "outputs": [],
   "source": [
    "# I want to retrieve all of the IP addresses from mini-access-log.txt\n",
    "\n",
    "# !type mini-access-log.txt\n",
    "\n",
    "[one_line.split()[0]\n",
    "for one_line in open('mini-access-log.txt')];"
   ]
  },
  {
   "cell_type": "markdown",
   "id": "b335cd7c",
   "metadata": {},
   "source": [
    "# &#129518; Counter <a id=\"counter\"></a>"
   ]
  },
  {
   "cell_type": "code",
   "execution_count": 32,
   "id": "7f6ccd48",
   "metadata": {},
   "outputs": [],
   "source": [
    "# How many times did each IP address access my server?\n",
    "# Use Counter\n",
    "\n",
    "from collections import Counter"
   ]
  },
  {
   "cell_type": "code",
   "execution_count": 33,
   "id": "b6bdbf71",
   "metadata": {},
   "outputs": [
    {
     "data": {
      "text/plain": [
       "Counter({'a': 5, 'b': 3})"
      ]
     },
     "execution_count": 33,
     "metadata": {},
     "output_type": "execute_result"
    }
   ],
   "source": [
    "# The WRONG way to use Counter\n",
    "# is as a cheap default dict\n",
    "\n",
    "c = Counter()\n",
    "c['a'] += 5\n",
    "c['b'] += 3\n",
    "c"
   ]
  },
  {
   "cell_type": "code",
   "execution_count": 34,
   "id": "c833c6c9",
   "metadata": {},
   "outputs": [],
   "source": [
    "# The CORRECT way to use Counter is to \n",
    "# initialise it with an iterable\n",
    "\n",
    "# Counter will count how many times each element\n",
    "# of that iterable exists. \n",
    "# Each element becomes a key and\n",
    "# the number of times becomes the value\n",
    "\n",
    "c = Counter([one_line.split()[0]\n",
    "            for one_line in open('mini-access-log.txt')])"
   ]
  },
  {
   "cell_type": "code",
   "execution_count": 35,
   "id": "5f8f037c",
   "metadata": {},
   "outputs": [
    {
     "name": "stdout",
     "output_type": "stream",
     "text": [
      "67.218.116.165 : 2\n",
      "66.249.71.65 : 3\n",
      "65.55.106.183 : 2\n",
      "66.249.65.12 : 32\n",
      "65.55.106.131 : 2\n",
      "65.55.106.186 : 2\n",
      "74.52.245.146 : 2\n",
      "66.249.65.43 : 3\n",
      "65.55.207.25 : 2\n",
      "65.55.207.94 : 2\n",
      "65.55.207.71 : 1\n",
      "98.242.170.241 : 1\n",
      "66.249.65.38 : 100\n",
      "65.55.207.126 : 2\n",
      "82.34.9.20 : 2\n",
      "65.55.106.155 : 2\n",
      "65.55.207.77 : 2\n",
      "208.80.193.28 : 1\n",
      "89.248.172.58 : 22\n",
      "67.195.112.35 : 16\n",
      "65.55.207.50 : 3\n",
      "65.55.215.75 : 2\n"
     ]
    }
   ],
   "source": [
    "# Counter inherits from dict, so we can use dict methods\n",
    "\n",
    "for key, value in c.items():\n",
    "    print(f'{key} : {value}')"
   ]
  },
  {
   "cell_type": "code",
   "execution_count": 36,
   "id": "a04f95ba",
   "metadata": {},
   "outputs": [
    {
     "name": "stdout",
     "output_type": "stream",
     "text": [
      "67.218.116.165     : xx\n",
      "66.249.71.65       : xxx\n",
      "65.55.106.183      : xx\n",
      "66.249.65.12       : xxxxxxxxxxxxxxxxxxxxxxxxxxxxxxxx\n",
      "65.55.106.131      : xx\n",
      "65.55.106.186      : xx\n",
      "74.52.245.146      : xx\n",
      "66.249.65.43       : xxx\n",
      "65.55.207.25       : xx\n",
      "65.55.207.94       : xx\n",
      "65.55.207.71       : x\n",
      "98.242.170.241     : x\n",
      "66.249.65.38       : xxxxxxxxxxxxxxxxxxxxxxxxxxxxxxxxxxxxxxxxxxxxxxxxxxxxxxxxxxxxxxxxxxxxxxxxxxxxxxxxxxxxxxxxxxxxxxxxxxxx\n",
      "65.55.207.126      : xx\n",
      "82.34.9.20         : xx\n",
      "65.55.106.155      : xx\n",
      "65.55.207.77       : xx\n",
      "208.80.193.28      : x\n",
      "89.248.172.58      : xxxxxxxxxxxxxxxxxxxxxx\n",
      "67.195.112.35      : xxxxxxxxxxxxxxxx\n",
      "65.55.207.50       : xxx\n",
      "65.55.215.75       : xx\n"
     ]
    }
   ],
   "source": [
    "# Plot a \"histogram\"...\n",
    "for key, value in c.items():\n",
    "    print(f'{key:18} : {value * \"x\"}')"
   ]
  },
  {
   "cell_type": "code",
   "execution_count": 37,
   "id": "63a38bf1",
   "metadata": {},
   "outputs": [
    {
     "data": {
      "text/plain": [
       "[('66.249.65.38', 100),\n",
       " ('66.249.65.12', 32),\n",
       " ('89.248.172.58', 22),\n",
       " ('67.195.112.35', 16),\n",
       " ('66.249.71.65', 3),\n",
       " ('66.249.65.43', 3),\n",
       " ('65.55.207.50', 3),\n",
       " ('67.218.116.165', 2),\n",
       " ('65.55.106.183', 2),\n",
       " ('65.55.106.131', 2),\n",
       " ('65.55.106.186', 2),\n",
       " ('74.52.245.146', 2),\n",
       " ('65.55.207.25', 2),\n",
       " ('65.55.207.94', 2),\n",
       " ('65.55.207.126', 2),\n",
       " ('82.34.9.20', 2),\n",
       " ('65.55.106.155', 2),\n",
       " ('65.55.207.77', 2),\n",
       " ('65.55.215.75', 2),\n",
       " ('65.55.207.71', 1),\n",
       " ('98.242.170.241', 1),\n",
       " ('208.80.193.28', 1)]"
      ]
     },
     "execution_count": 37,
     "metadata": {},
     "output_type": "execute_result"
    }
   ],
   "source": [
    "# This is a Counter method that returns\n",
    "# a list of tuples from the \n",
    "# most common to the least, based on Counter\n",
    "c.most_common()"
   ]
  },
  {
   "cell_type": "code",
   "execution_count": 38,
   "id": "efbd926e",
   "metadata": {},
   "outputs": [
    {
     "data": {
      "text/plain": [
       "[('66.249.65.38', 100),\n",
       " ('66.249.65.12', 32),\n",
       " ('89.248.172.58', 22),\n",
       " ('67.195.112.35', 16),\n",
       " ('66.249.71.65', 3)]"
      ]
     },
     "execution_count": 38,
     "metadata": {},
     "output_type": "execute_result"
    }
   ],
   "source": [
    "# I can invoke most_common with an argument to\n",
    "# get arg many elements in the output list\n",
    "\n",
    "c.most_common(5)"
   ]
  },
  {
   "cell_type": "code",
   "execution_count": 39,
   "id": "ce3e7509",
   "metadata": {},
   "outputs": [],
   "source": [
    "usernames = [one_line.split(':')[0]                      \n",
    "            for one_line in open('linux-etc-passwd.txt') \n",
    "            if ':' in one_line] "
   ]
  },
  {
   "cell_type": "code",
   "execution_count": 40,
   "id": "12d04e22",
   "metadata": {},
   "outputs": [
    {
     "data": {
      "text/plain": [
       "['root',\n",
       " 'daemon',\n",
       " 'bin',\n",
       " 'sys',\n",
       " 'sync',\n",
       " 'games',\n",
       " 'man',\n",
       " 'lp',\n",
       " 'mail',\n",
       " 'news',\n",
       " 'uucp',\n",
       " 'proxy',\n",
       " 'www-data',\n",
       " 'backup',\n",
       " 'list',\n",
       " 'irc',\n",
       " 'gnats',\n",
       " 'nobody',\n",
       " 'syslog',\n",
       " 'messagebus',\n",
       " 'landscape',\n",
       " 'jci',\n",
       " 'sshd',\n",
       " 'user',\n",
       " 'reuven',\n",
       " 'postfix',\n",
       " 'colord',\n",
       " 'postgres',\n",
       " 'dovecot',\n",
       " 'dovenull',\n",
       " 'postgrey',\n",
       " 'debian-spamd',\n",
       " 'memcache',\n",
       " 'genadi',\n",
       " 'shira',\n",
       " 'atara',\n",
       " 'shikma',\n",
       " 'amotz',\n",
       " 'mysql',\n",
       " 'clamav',\n",
       " 'amavis',\n",
       " 'opendkim',\n",
       " 'gitlab-redis',\n",
       " 'gitlab-psql',\n",
       " 'git',\n",
       " 'opendmarc',\n",
       " 'dkim-milter-python',\n",
       " 'deploy',\n",
       " 'redis']"
      ]
     },
     "execution_count": 40,
     "metadata": {},
     "output_type": "execute_result"
    }
   ],
   "source": [
    "usernames"
   ]
  },
  {
   "cell_type": "code",
   "execution_count": 41,
   "id": "e815977e",
   "metadata": {},
   "outputs": [
    {
     "data": {
      "text/plain": [
       "True"
      ]
     },
     "execution_count": 41,
     "metadata": {},
     "output_type": "execute_result"
    }
   ],
   "source": [
    "# We can now search for usernames in this list using \"in\"\n",
    "\n",
    "'news' in usernames"
   ]
  },
  {
   "cell_type": "code",
   "execution_count": 42,
   "id": "1bd72e14",
   "metadata": {},
   "outputs": [
    {
     "data": {
      "text/plain": [
       "True"
      ]
     },
     "execution_count": 42,
     "metadata": {},
     "output_type": "execute_result"
    }
   ],
   "source": [
    "'daemon' in usernames"
   ]
  },
  {
   "cell_type": "code",
   "execution_count": 43,
   "id": "ad5bdece",
   "metadata": {},
   "outputs": [
    {
     "data": {
      "text/plain": [
       "False"
      ]
     },
     "execution_count": 43,
     "metadata": {},
     "output_type": "execute_result"
    }
   ],
   "source": [
    "'zoe' in usernames"
   ]
  },
  {
   "cell_type": "markdown",
   "id": "3b268c5c",
   "metadata": {},
   "source": [
    "# &#x1F374; Set comprehensions  <a id=\"set_comps\"></a>"
   ]
  },
  {
   "cell_type": "code",
   "execution_count": 44,
   "id": "1fd9dab8",
   "metadata": {},
   "outputs": [],
   "source": [
    "# Lists are slow to search,  \n",
    "# so maybe I should use a different data structure... \n",
    "\n",
    "# What searches faster? Sets.\n",
    "# Sets: guarantee uniqueness in their members, searching is \n",
    "# fast and all elements are hashable -- just like dict keys\n",
    "\n",
    "usernames = set([one_line.split(':')[0]                      \n",
    "            for one_line in open('linux-etc-passwd.txt') \n",
    "            if ':' in one_line]) "
   ]
  },
  {
   "cell_type": "code",
   "execution_count": 45,
   "id": "385b6991",
   "metadata": {},
   "outputs": [
    {
     "data": {
      "text/plain": [
       "set"
      ]
     },
     "execution_count": 45,
     "metadata": {},
     "output_type": "execute_result"
    }
   ],
   "source": [
    "type(usernames)"
   ]
  },
  {
   "cell_type": "code",
   "execution_count": 46,
   "id": "6fe7a0b7",
   "metadata": {},
   "outputs": [],
   "source": [
    "# So we can use a set comprehension!\n",
    "\n",
    "# look almost identical to a list comprehension\n",
    "# but use {} instead\n",
    "\n",
    "usernames = {one_line.split(':')[0]                      \n",
    "            for one_line in open('linux-etc-passwd.txt') \n",
    "            if ':' in one_line}"
   ]
  },
  {
   "cell_type": "code",
   "execution_count": 47,
   "id": "c0ccbffc",
   "metadata": {},
   "outputs": [],
   "source": [
    "usernames;"
   ]
  },
  {
   "cell_type": "code",
   "execution_count": 48,
   "id": "3fb33b06",
   "metadata": {},
   "outputs": [
    {
     "data": {
      "text/plain": [
       "set"
      ]
     },
     "execution_count": 48,
     "metadata": {},
     "output_type": "execute_result"
    }
   ],
   "source": [
    "type(usernames)"
   ]
  },
  {
   "cell_type": "code",
   "execution_count": 49,
   "id": "7c6a9acf",
   "metadata": {},
   "outputs": [
    {
     "data": {
      "text/plain": [
       "True"
      ]
     },
     "execution_count": 49,
     "metadata": {},
     "output_type": "execute_result"
    }
   ],
   "source": [
    "'daemon' in usernames"
   ]
  },
  {
   "cell_type": "markdown",
   "id": "800b935c",
   "metadata": {},
   "source": [
    "# &#x1F4DD; Exercise: Sum unique numbers<a id=\"ex_sum_unique_nums\"></a>"
   ]
  },
  {
   "cell_type": "markdown",
   "id": "11481510",
   "metadata": {},
   "source": [
    "1. Ask the user to enter numbers, separated by whitespace\n",
    "2. Print their sum, but count each number *once* only\n",
    "\n",
    "Example:\n",
    "\n",
    "    Enter numbers: 1 2 3 4 5 6\n",
    "    Total is 21"
   ]
  },
  {
   "cell_type": "code",
   "execution_count": 50,
   "id": "81016821",
   "metadata": {},
   "outputs": [
    {
     "name": "stdout",
     "output_type": "stream",
     "text": [
      "Enter numbers: 1 2 3 4 5 6\n"
     ]
    },
    {
     "data": {
      "text/plain": [
       "21"
      ]
     },
     "execution_count": 50,
     "metadata": {},
     "output_type": "execute_result"
    }
   ],
   "source": [
    "s = input('Enter numbers: ').strip()\n",
    "\n",
    "sum({int(one_item)\n",
    "    for one_item in s.split()})"
   ]
  },
  {
   "cell_type": "markdown",
   "id": "fe3b82d7",
   "metadata": {},
   "source": [
    "Creating a set vs. a list takes longer &#x23F2; because sets are hashable. But once a set exists, it's much faster to search them. \n",
    "\n",
    "> Use set comprehensions when you're searching lots of times &#x1F50D;  \n",
    "\n",
    "> Use set comprehensions to answer the question: \"How many unique blah blah blah...?\" &#129518;"
   ]
  },
  {
   "cell_type": "markdown",
   "id": "ceec8175",
   "metadata": {},
   "source": [
    "# &#x1F4DD;  Exercise: Which shells?<a id=\"ex_shells\"></a>"
   ]
  },
  {
   "cell_type": "markdown",
   "id": "a5975f47",
   "metadata": {},
   "source": [
    "Read through `linux-etc-passwd.txt` and find the different shells &#x1F41A; that are used on the system."
   ]
  },
  {
   "cell_type": "code",
   "execution_count": 51,
   "id": "cca201e0",
   "metadata": {},
   "outputs": [],
   "source": [
    "# Anti-solution"
   ]
  },
  {
   "cell_type": "markdown",
   "id": "7091623f",
   "metadata": {},
   "source": [
    "```python\n",
    "{\n",
    "    one_line.split(':')\n",
    "    for one_line in open('linux-etc-passwd.txt')\n",
    "    if ':' in one_line\n",
    "}\n",
    "```"
   ]
  },
  {
   "cell_type": "markdown",
   "id": "005be444",
   "metadata": {},
   "source": [
    "Why doesn't this work? &#x274C;\n",
    "\n",
    "Because `.split()` always returns a **list** of strings and set comprehensions cannot &#x1F6AB; contain things which are **unhashable** e.g. lists. \n",
    "\n",
    "> You can't use a list as a dictionary key &#8756; you can't use a list as an element in a set"
   ]
  },
  {
   "cell_type": "code",
   "execution_count": 52,
   "id": "a6740545",
   "metadata": {},
   "outputs": [
    {
     "data": {
      "text/plain": [
       "{'/bin/bash',\n",
       " '/bin/false',\n",
       " '/bin/nologin',\n",
       " '/bin/sh',\n",
       " '/bin/sync',\n",
       " '/usr/sbin/nologin'}"
      ]
     },
     "execution_count": 52,
     "metadata": {},
     "output_type": "execute_result"
    }
   ],
   "source": [
    "# Solution\n",
    "# Strategy: write it as a list comprehension then change [] to {}\n",
    "\n",
    "{\n",
    "    one_line.split(':')[-1].strip()\n",
    "    for one_line in open('linux-etc-passwd.txt')\n",
    "    if ':' in one_line\n",
    "}"
   ]
  },
  {
   "cell_type": "code",
   "execution_count": 53,
   "id": "953073dd",
   "metadata": {},
   "outputs": [
    {
     "data": {
      "text/plain": [
       "{'I': 1, 'caught': 6, 'a': 1, 'squid!': 6, 'Oh': 2, 'no': 2, \"squidn't!\": 9}"
      ]
     },
     "execution_count": 53,
     "metadata": {},
     "output_type": "execute_result"
    }
   ],
   "source": [
    "# I have a string with some words\n",
    "\n",
    "# I want to create a dict wherein each word is the key\n",
    "# and the word length is the value\n",
    "\n",
    "s = \"I caught a squid! Oh no I squidn't!\"\n",
    "\n",
    "# we can invoke dict() on a list of tuples\n",
    "# and get back a dictionary!\n",
    "\n",
    "dict([(one_word, len(one_word)) \n",
    "    for one_word in s.split()])"
   ]
  },
  {
   "cell_type": "markdown",
   "id": "0c6eb51f",
   "metadata": {},
   "source": [
    "This works &#x1F197; - but we can do better. Enter dictionary comprehensions!"
   ]
  },
  {
   "cell_type": "markdown",
   "id": "badb5b5d",
   "metadata": {},
   "source": [
    "# &#x1F4D5; Dictionary comprehensions <a id=\"dict_comps\"></a>"
   ]
  },
  {
   "cell_type": "markdown",
   "id": "d86e9229",
   "metadata": {},
   "source": [
    "When writing a dict comprehension, we use `{}` just as with set comprehensions but now we have **two** expressions in the first line. These two expressions are separated by a colon `:` and this colon `:` is how python &#x1F40D; knows it's a dict, not a set."
   ]
  },
  {
   "cell_type": "code",
   "execution_count": 54,
   "id": "7fa7b9eb",
   "metadata": {},
   "outputs": [
    {
     "data": {
      "text/plain": [
       "{'I': 1, 'caught': 6, 'a': 1, 'squid!': 6, 'Oh': 2, 'no': 2, \"squidn't!\": 9}"
      ]
     },
     "execution_count": 54,
     "metadata": {},
     "output_type": "execute_result"
    }
   ],
   "source": [
    "{ one_word : len(one_word) # key : value expression\n",
    " for one_word in s.split()\n",
    "}"
   ]
  },
  {
   "cell_type": "code",
   "execution_count": 55,
   "id": "2eb39139",
   "metadata": {},
   "outputs": [],
   "source": [
    "# I'm going to create a really fast config file\n",
    "# with name = value on each line\n",
    "\n",
    "with open('myconfig.txt','w') as outfile:  # `with` is a context manager and hides two method calls -- magic methods\n",
    "    # outfile.__enter__() \n",
    "    for index, one_character in enumerate('abcd', 1):\n",
    "        outfile.write(f'{one_character}={index}\\n')\n",
    "    # outfile.__exit__() "
   ]
  },
  {
   "cell_type": "code",
   "execution_count": 56,
   "id": "cc2ba31a",
   "metadata": {},
   "outputs": [
    {
     "name": "stdout",
     "output_type": "stream",
     "text": [
      "a=1\n",
      "b=2\n",
      "c=3\n",
      "d=4\n"
     ]
    }
   ],
   "source": [
    "!type myconfig.txt"
   ]
  },
  {
   "cell_type": "code",
   "execution_count": 57,
   "id": "5e014bef",
   "metadata": {},
   "outputs": [
    {
     "data": {
      "text/plain": [
       "{'a': '1', 'b': '2', 'c': '3', 'd': '4'}"
      ]
     },
     "execution_count": 57,
     "metadata": {},
     "output_type": "execute_result"
    }
   ],
   "source": [
    "# I can use a dict comprehension to \n",
    "# read this file into a dict!\n",
    "\n",
    "{ one_line.split('=')[0] : one_line.split('=')[-1].strip()\n",
    "    for one_line in open('myconfig.txt')\n",
    "}"
   ]
  },
  {
   "cell_type": "markdown",
   "id": "528f225f",
   "metadata": {},
   "source": [
    "# &#x1F4DD; Exercise: Usernames and shells <a id=\"ex_names_shells\"></a>"
   ]
  },
  {
   "cell_type": "markdown",
   "id": "7a090fb3",
   "metadata": {},
   "source": [
    "Use a dict comprehension to create a dict, in which the keys &#x1F511; are usernames and the values are the shells &#x1F41A; associated with those usernames in `linux-etc-passwd.txt`."
   ]
  },
  {
   "cell_type": "code",
   "execution_count": 58,
   "id": "c1938364",
   "metadata": {},
   "outputs": [],
   "source": [
    "# Start with a list-tuple combo\n",
    "\n",
    "# [(one_line.split(':')[0], one_line.split(':')[-1].strip())                      \n",
    "# for one_line in open('linux-etc-passwd.txt') \n",
    "# if ':' in one_line]\n",
    "\n",
    "{ \n",
    "    one_line.split(':')[0] : one_line.split(':')[-1].strip()                      \n",
    "    for one_line in open('linux-etc-passwd.txt') \n",
    "    if ':' in one_line\n",
    "};"
   ]
  },
  {
   "cell_type": "code",
   "execution_count": 60,
   "id": "0a454e5a",
   "metadata": {},
   "outputs": [],
   "source": [
    "# Walrus solution \n",
    "\n",
    "{ \n",
    "    fields[0] : fields[-1].strip()                      \n",
    "    for one_line in open('linux-etc-passwd.txt') \n",
    "    if ':' in one_line and (fields := one_line.split(':')) # need parentheses around second condition\n",
    "};"
   ]
  },
  {
   "cell_type": "markdown",
   "id": "422e75ee",
   "metadata": {},
   "source": [
    "> Summary: use a comp when I have an **iterable**, I want an **interable** and I can define a **mapping** &#x1F30D; between them"
   ]
  },
  {
   "cell_type": "code",
   "execution_count": 61,
   "id": "db0d5f8f",
   "metadata": {},
   "outputs": [
    {
     "data": {
      "text/plain": [
       "[[1, 2, 3], [11, 12, 13, 14], [21, 22, 23, 24, 25], [31, 32, 33, 34, 35, 36]]"
      ]
     },
     "execution_count": 61,
     "metadata": {},
     "output_type": "execute_result"
    }
   ],
   "source": [
    "# How about a list of lists, where inner lists contain integers...?\n",
    "\n",
    "mylist = [[1, 2, 3],\n",
    "         [11, 12, 13, 14],\n",
    "         [21, 22, 23, 24, 25],\n",
    "         [31, 32, 33, 34, 35, 36]]\n",
    "\n",
    "mylist"
   ]
  },
  {
   "cell_type": "code",
   "execution_count": 62,
   "id": "8d1db734",
   "metadata": {},
   "outputs": [],
   "source": [
    "# how can I sum the integers in this nested list?\n",
    "# first guess: sum! (bad guess)"
   ]
  },
  {
   "cell_type": "markdown",
   "id": "8cd44452",
   "metadata": {},
   "source": [
    "```python\n",
    "sum(mylist)\n",
    "```"
   ]
  },
  {
   "cell_type": "code",
   "execution_count": 63,
   "id": "5762ec5c",
   "metadata": {},
   "outputs": [
    {
     "data": {
      "text/plain": [
       "[[1, 2, 3], [11, 12, 13, 14], [21, 22, 23, 24, 25], [31, 32, 33, 34, 35, 36]]"
      ]
     },
     "execution_count": 63,
     "metadata": {},
     "output_type": "execute_result"
    }
   ],
   "source": [
    "# guess 2: use a comprehension!\n",
    "\n",
    "[one_sublist\n",
    "for one_sublist in mylist]"
   ]
  },
  {
   "cell_type": "markdown",
   "id": "21a0d371",
   "metadata": {},
   "source": [
    "But these results are identical! We've run into a problem previously stated: that the number of elements we get back is less than or equal to the input. \n",
    "\n",
    "So, how can we get more?"
   ]
  },
  {
   "cell_type": "markdown",
   "id": "3fa721ed",
   "metadata": {},
   "source": [
    "# &#x1F423; Nested list comprehensions <a id=\"nested_comps\"></a>"
   ]
  },
  {
   "cell_type": "code",
   "execution_count": 64,
   "id": "8e44557a",
   "metadata": {},
   "outputs": [
    {
     "data": {
      "text/plain": [
       "[1, 2, 3, 11, 12, 13, 14, 21, 22, 23, 24, 25, 31, 32, 33, 34, 35, 36]"
      ]
     },
     "execution_count": 64,
     "metadata": {},
     "output_type": "execute_result"
    }
   ],
   "source": [
    "# nested list comprehensions!\n",
    "\n",
    "([one_number                        # third\n",
    "    for one_sublist in mylist       # executed first\n",
    "    for one_number in one_sublist]) # second "
   ]
  },
  {
   "cell_type": "code",
   "execution_count": 65,
   "id": "88166a1c",
   "metadata": {},
   "outputs": [
    {
     "data": {
      "text/plain": [
       "372"
      ]
     },
     "execution_count": 65,
     "metadata": {},
     "output_type": "execute_result"
    }
   ],
   "source": [
    "sum([one_number                        \n",
    "    for one_sublist in mylist       \n",
    "    for one_number in one_sublist])"
   ]
  },
  {
   "cell_type": "code",
   "execution_count": 66,
   "id": "560825b4",
   "metadata": {},
   "outputs": [
    {
     "data": {
      "text/plain": [
       "[11, 13, 21, 23, 25, 31, 33, 35]"
      ]
     },
     "execution_count": 66,
     "metadata": {},
     "output_type": "execute_result"
    }
   ],
   "source": [
    "# can we use if statements in nested comps? Of course!\n",
    "\n",
    "[one_number                        \n",
    "    for one_sublist in mylist\n",
    "    if len(one_sublist) > 3    # only long sublists\n",
    "    for one_number in one_sublist\n",
    "    if one_number % 2]         # only if it's odd"
   ]
  },
  {
   "cell_type": "code",
   "execution_count": 67,
   "id": "8d4c55d6",
   "metadata": {},
   "outputs": [
    {
     "data": {
      "text/plain": [
       "192"
      ]
     },
     "execution_count": 67,
     "metadata": {},
     "output_type": "execute_result"
    }
   ],
   "source": [
    "sum([one_number                        \n",
    "    for one_sublist in mylist\n",
    "    if len(one_sublist) > 3 \n",
    "    for one_number in one_sublist\n",
    "    if one_number % 2])"
   ]
  },
  {
   "cell_type": "code",
   "execution_count": 68,
   "id": "9d25299f",
   "metadata": {},
   "outputs": [
    {
     "data": {
      "text/plain": [
       "[45, 55]"
      ]
     },
     "execution_count": 68,
     "metadata": {},
     "output_type": "execute_result"
    }
   ],
   "source": [
    "numbers = [10, 20, 30, 40, 45, 50, 55, 60, 70]\n",
    "\n",
    "[one_number\n",
    " for one_number in numbers \n",
    " if one_number > 40    # allowed > 1 if lines irrespective of no. of fors\n",
    " if one_number % 2]    # multiple if lines are and-ed together"
   ]
  },
  {
   "cell_type": "markdown",
   "id": "5206ca71",
   "metadata": {},
   "source": [
    "> Use nested comprehensions to unpack &#x1F4E6; complex data structures"
   ]
  },
  {
   "cell_type": "code",
   "execution_count": 69,
   "id": "07c1e6ad",
   "metadata": {},
   "outputs": [],
   "source": [
    "# download the movies.dat file from here:\n",
    "# https://files.lerner.co.il/advanced-exercises-files.zip"
   ]
  },
  {
   "cell_type": "code",
   "execution_count": 70,
   "id": "b7542454",
   "metadata": {},
   "outputs": [],
   "source": [
    "#!type movies.dat"
   ]
  },
  {
   "cell_type": "markdown",
   "id": "0cf0c73f",
   "metadata": {},
   "source": [
    "# &#x1F4DD; Exercise: Movie genres <a id=\"ex_movie\"></a>"
   ]
  },
  {
   "cell_type": "markdown",
   "id": "2c69f21b",
   "metadata": {},
   "source": [
    "Goal: Find out what the 5 most popular movie genres are in `movies.dat`\n",
    "\n",
    "1. Use a nested comprehension to read through the file, find the appropriate fields and lines, and then use `Counter` to find the most common genres.\n",
    "\n",
    "If a movie has more than one genre, each should be counted once.\n",
    "\n",
    "Hint: You'll want to hand `Counter` a list of genres from the file. "
   ]
  },
  {
   "cell_type": "code",
   "execution_count": 71,
   "id": "58de2bb0",
   "metadata": {},
   "outputs": [
    {
     "data": {
      "text/plain": [
       "[('Drama', 1086),\n",
       " ('Comedy', 839),\n",
       " ('Action', 357),\n",
       " ('Thriller', 340),\n",
       " ('Romance', 313)]"
      ]
     },
     "execution_count": 71,
     "metadata": {},
     "output_type": "execute_result"
    }
   ],
   "source": [
    "# Getting a UnicodeDecodeError so edited movies.dat\n",
    "\n",
    "c = Counter([one_genre                        \n",
    "             for one_line in open('movies.dat')        \n",
    "             for one_genre in one_line.strip().split('::')[-1].split('|')])\n",
    "\n",
    "c.most_common(5)"
   ]
  },
  {
   "cell_type": "markdown",
   "id": "9e7632e9",
   "metadata": {},
   "source": [
    "# &#x26A1;&#x1F3ED; Generator expression  <a id=\"gen_exp\"></a>"
   ]
  },
  {
   "cell_type": "code",
   "execution_count": 72,
   "id": "4791a614",
   "metadata": {},
   "outputs": [
    {
     "data": {
      "text/plain": [
       "<generator object <genexpr> at 0x00000134B79C6400>"
      ]
     },
     "execution_count": 72,
     "metadata": {},
     "output_type": "execute_result"
    }
   ],
   "source": [
    "# does () = tuple comprehension?\n",
    "\n",
    "(x**2\n",
    " for one_number in range(10))"
   ]
  },
  {
   "cell_type": "markdown",
   "id": "2c43144e",
   "metadata": {},
   "source": [
    "Nope -- a generator!"
   ]
  },
  {
   "cell_type": "markdown",
   "id": "f2a4fe7a",
   "metadata": {},
   "source": [
    "# &#x1F4A1;  What's a generator? <a id=\"what_gen\"></a>"
   ]
  },
  {
   "cell_type": "markdown",
   "id": "35830149",
   "metadata": {},
   "source": [
    "\n",
    "A generator is an object in Python that knows how to behave inside a `for` loop -- because it's iterable.\n",
    "\n",
    "The point &#x1F4CC; of a generator is that it doesn't return all of its elements at once. Rather, it returns only one at a time.\n",
    "\n",
    "A generator expression works like a list comprehension except that, instead of returning a list with all of its elements, it returns a generator object. This object can be put into a `for` loop (or any other iterable context), and it will only run the expression when it is asked to, typically once per iteration."
   ]
  },
  {
   "cell_type": "code",
   "execution_count": 73,
   "id": "6218996c",
   "metadata": {},
   "outputs": [],
   "source": [
    "g = (one_number**2                # 3. runs one iteration, returns one_number then goes to sleep\n",
    "     for one_number in range(10))"
   ]
  },
  {
   "cell_type": "code",
   "execution_count": 74,
   "id": "5109e825",
   "metadata": {},
   "outputs": [
    {
     "name": "stdout",
     "output_type": "stream",
     "text": [
      "0\n",
      "1\n",
      "4\n",
      "9\n",
      "16\n",
      "25\n",
      "36\n",
      "49\n",
      "64\n",
      "81\n"
     ]
    }
   ],
   "source": [
    "for one_item in g: # 1. For loop says to g \"hey -- are you iterable?\" G says yes\n",
    "    print(one_item) # 2. For loop says \"give me your next thing g\""
   ]
  },
  {
   "cell_type": "markdown",
   "id": "5044110b",
   "metadata": {},
   "source": [
    "> Useful when we don't want everything returned at once &#x1F4BE; "
   ]
  },
  {
   "cell_type": "code",
   "execution_count": 75,
   "id": "1d974e13",
   "metadata": {},
   "outputs": [
    {
     "data": {
      "text/plain": [
       "'10*20*30'"
      ]
     },
     "execution_count": 75,
     "metadata": {},
     "output_type": "execute_result"
    }
   ],
   "source": [
    "mylist = [10, 20, 30]\n",
    "\n",
    "# we could use a list comprehension...\n",
    "'*'.join([str(one_item)\n",
    "         for one_item in mylist])"
   ]
  },
  {
   "cell_type": "code",
   "execution_count": 76,
   "id": "a893ef30",
   "metadata": {},
   "outputs": [
    {
     "data": {
      "text/plain": [
       "'10*20*30'"
      ]
     },
     "execution_count": 76,
     "metadata": {},
     "output_type": "execute_result"
    }
   ],
   "source": [
    "# ...or a generator expression\n",
    "'*'.join((str(one_item)\n",
    "         for one_item in mylist))"
   ]
  },
  {
   "cell_type": "code",
   "execution_count": 77,
   "id": "9b47d7d1",
   "metadata": {},
   "outputs": [
    {
     "data": {
      "text/plain": [
       "'10*20*30'"
      ]
     },
     "execution_count": 77,
     "metadata": {},
     "output_type": "execute_result"
    }
   ],
   "source": [
    "# generator expression -- with only one set of parentheses!\n",
    "'*'.join(str(one_item)\n",
    "         for one_item in mylist)"
   ]
  },
  {
   "cell_type": "code",
   "execution_count": 78,
   "id": "274721b0",
   "metadata": {},
   "outputs": [
    {
     "data": {
      "text/plain": [
       "132"
      ]
     },
     "execution_count": 78,
     "metadata": {},
     "output_type": "execute_result"
    }
   ],
   "source": [
    "# Use case: read words from a file\n",
    "\n",
    "# nested gen expression\n",
    "g = (one_word \n",
    "    for one_line in open('wcfile.txt')\n",
    "    for one_word in one_line.split())\n",
    "\n",
    "total = 0\n",
    "for w in g:\n",
    "    total += len(w) # total the lengths of all words, no spaces\n",
    "    \n",
    "total"
   ]
  },
  {
   "cell_type": "code",
   "execution_count": 79,
   "id": "3780f9cf",
   "metadata": {},
   "outputs": [],
   "source": [
    "# You can define a generator with a \"generator function\"\n",
    "# You can use yield to return a \n",
    "# value without exiting the function\n",
    "\n",
    "def mygen():\n",
    "    yield 10\n",
    "    yield 20\n",
    "    yield 30\n",
    "    \n",
    "g = mygen()"
   ]
  },
  {
   "cell_type": "code",
   "execution_count": 80,
   "id": "7efb1179",
   "metadata": {},
   "outputs": [
    {
     "data": {
      "text/plain": [
       "<generator object mygen at 0x00000134B685B3D0>"
      ]
     },
     "execution_count": 80,
     "metadata": {},
     "output_type": "execute_result"
    }
   ],
   "source": [
    "g"
   ]
  },
  {
   "cell_type": "code",
   "execution_count": 81,
   "id": "9c66f962",
   "metadata": {},
   "outputs": [
    {
     "data": {
      "text/plain": [
       "[10, 20, 30]"
      ]
     },
     "execution_count": 81,
     "metadata": {},
     "output_type": "execute_result"
    }
   ],
   "source": [
    "list(g) # List goes to g and runs a for loop on it"
   ]
  },
  {
   "cell_type": "code",
   "execution_count": 82,
   "id": "c6afd2b2",
   "metadata": {},
   "outputs": [],
   "source": [
    "# You can do the same thing\n",
    "# by writing a function that returns a generator expression\n",
    "\n",
    "def mygen():\n",
    "    return (one_number\n",
    "           for one_number in [10, 20, 30])"
   ]
  },
  {
   "cell_type": "code",
   "execution_count": 83,
   "id": "54cbbe0c",
   "metadata": {},
   "outputs": [
    {
     "data": {
      "text/plain": [
       "<generator object mygen.<locals>.<genexpr> at 0x00000134B79C7030>"
      ]
     },
     "execution_count": 83,
     "metadata": {},
     "output_type": "execute_result"
    }
   ],
   "source": [
    "mygen()"
   ]
  },
  {
   "cell_type": "markdown",
   "id": "e1c8462e",
   "metadata": {},
   "source": [
    "# &#x1F52C; Scope <a id=\"scope\"></a>"
   ]
  },
  {
   "cell_type": "code",
   "execution_count": 85,
   "id": "51b503d7",
   "metadata": {},
   "outputs": [
    {
     "name": "stdout",
     "output_type": "stream",
     "text": [
      "12\n"
     ]
    }
   ],
   "source": [
    "# what is x?\n",
    "\n",
    "x = 100\n",
    "\n",
    "for one_number in range(5):\n",
    "    x = one_number * 3\n",
    "\n",
    "print(x) "
   ]
  },
  {
   "cell_type": "markdown",
   "id": "1c35894f",
   "metadata": {},
   "source": [
    "Why? Because `x` and `one_number` are both in the global &#x1F30D; scope -- no function def = no new scope"
   ]
  },
  {
   "cell_type": "code",
   "execution_count": 86,
   "id": "d5eeca3d",
   "metadata": {},
   "outputs": [
    {
     "name": "stdout",
     "output_type": "stream",
     "text": [
      "[0, 3, 6, 9, 12]\n"
     ]
    },
    {
     "data": {
      "text/plain": [
       "100"
      ]
     },
     "execution_count": 86,
     "metadata": {},
     "output_type": "execute_result"
    }
   ],
   "source": [
    "# what is x?\n",
    "\n",
    "x = 100\n",
    "\n",
    "print([x * 3\n",
    "      for x in range(5)])\n",
    "\n",
    "x"
   ]
  },
  {
   "cell_type": "markdown",
   "id": "564b45a3",
   "metadata": {},
   "source": [
    "> Comprehensions don't modify the outer &#x1F30C; scope"
   ]
  },
  {
   "cell_type": "markdown",
   "id": "fdc50b4a",
   "metadata": {},
   "source": [
    "Let's look BTS &#x1F575;"
   ]
  },
  {
   "cell_type": "code",
   "execution_count": 87,
   "id": "76939832",
   "metadata": {},
   "outputs": [],
   "source": [
    "def regular_loop():\n",
    "    x =100\n",
    "    \n",
    "    for one_number in range(5):\n",
    "        x = one_number * 3"
   ]
  },
  {
   "cell_type": "code",
   "execution_count": 88,
   "id": "f807510c",
   "metadata": {},
   "outputs": [],
   "source": [
    "import dis # disassembler for Python"
   ]
  },
  {
   "cell_type": "code",
   "execution_count": 89,
   "id": "50856086",
   "metadata": {},
   "outputs": [
    {
     "name": "stdout",
     "output_type": "stream",
     "text": [
      "  1           0 RESUME                   0\n",
      "\n",
      "  2           2 LOAD_CONST               1 (100)\n",
      "              4 STORE_FAST               0 (x)\n",
      "\n",
      "  4           6 LOAD_GLOBAL              1 (NULL + range)\n",
      "             18 LOAD_CONST               2 (5)\n",
      "             20 PRECALL                  1\n",
      "             24 CALL                     1\n",
      "             34 GET_ITER\n",
      "        >>   36 FOR_ITER                 7 (to 52)\n",
      "             38 STORE_FAST               1 (one_number)\n",
      "\n",
      "  5          40 LOAD_FAST                1 (one_number)\n",
      "             42 LOAD_CONST               3 (3)\n",
      "             44 BINARY_OP                5 (*)\n",
      "             48 STORE_FAST               0 (x)\n",
      "             50 JUMP_BACKWARD            8 (to 36)\n",
      "\n",
      "  4     >>   52 LOAD_CONST               0 (None)\n",
      "             54 RETURN_VALUE\n"
     ]
    }
   ],
   "source": [
    "dis.dis(regular_loop)"
   ]
  },
  {
   "cell_type": "markdown",
   "id": "4ab5f82e",
   "metadata": {},
   "source": [
    "> `STORE_FAST` means `x` and `one_number` are **local** &#x1F3E0; variables\n"
   ]
  },
  {
   "cell_type": "markdown",
   "id": "3ca0f409",
   "metadata": {},
   "source": [
    "Compare to the comprehension version:"
   ]
  },
  {
   "cell_type": "code",
   "execution_count": 90,
   "id": "238d22fd",
   "metadata": {},
   "outputs": [],
   "source": [
    "def comp_loop():\n",
    "    x =100\n",
    "    \n",
    "    print([x * 3\n",
    "          for x in range(5)])"
   ]
  },
  {
   "cell_type": "code",
   "execution_count": 91,
   "id": "5dea8af1",
   "metadata": {},
   "outputs": [
    {
     "name": "stdout",
     "output_type": "stream",
     "text": [
      "  1           0 RESUME                   0\n",
      "\n",
      "  2           2 LOAD_CONST               1 (100)\n",
      "              4 STORE_FAST               0 (x)\n",
      "\n",
      "  4           6 LOAD_GLOBAL              1 (NULL + print)\n",
      "             18 LOAD_CONST               2 (<code object <listcomp> at 0x00000134B7AA4B90, file \"C:\\Users\\zoeda\\AppData\\Local\\Temp\\ipykernel_19608\\3917933206.py\", line 4>)\n",
      "             20 MAKE_FUNCTION            0\n",
      "\n",
      "  5          22 LOAD_GLOBAL              3 (NULL + range)\n",
      "             34 LOAD_CONST               3 (5)\n",
      "             36 PRECALL                  1\n",
      "             40 CALL                     1\n",
      "\n",
      "  4          50 GET_ITER\n",
      "             52 PRECALL                  0\n",
      "             56 CALL                     0\n",
      "             66 PRECALL                  1\n",
      "             70 CALL                     1\n",
      "             80 POP_TOP\n",
      "             82 LOAD_CONST               0 (None)\n",
      "             84 RETURN_VALUE\n",
      "\n",
      "Disassembly of <code object <listcomp> at 0x00000134B7AA4B90, file \"C:\\Users\\zoeda\\AppData\\Local\\Temp\\ipykernel_19608\\3917933206.py\", line 4>:\n",
      "  4           0 RESUME                   0\n",
      "              2 BUILD_LIST               0\n",
      "              4 LOAD_FAST                0 (.0)\n",
      "        >>    6 FOR_ITER                 7 (to 22)\n",
      "\n",
      "  5           8 STORE_FAST               1 (x)\n",
      "\n",
      "  4          10 LOAD_FAST                1 (x)\n",
      "             12 LOAD_CONST               0 (3)\n",
      "             14 BINARY_OP                5 (*)\n",
      "             18 LIST_APPEND              2\n",
      "             20 JUMP_BACKWARD            8 (to 6)\n",
      "        >>   22 RETURN_VALUE\n"
     ]
    }
   ],
   "source": [
    "dis.dis(comp_loop)"
   ]
  },
  {
   "cell_type": "markdown",
   "id": "f26e4570",
   "metadata": {},
   "source": [
    "&#x1f92f; ...\n",
    "\n",
    "\n",
    "> ```python\n",
    "18 LOAD_CONST               2 (<code object <listcomp> at 0x0000011F39B6C100, file    \"C:\\Users\\zoeda\\AppData\\Local\\Temp\\ipykernel_11260\\3917933206.py\", line 4>)\n",
    "             20 MAKE_FUNCTION            0\n",
    "```\n"
   ]
  },
  {
   "cell_type": "markdown",
   "id": "781802fa",
   "metadata": {},
   "source": [
    "What is happening here? Well, when we define a list comprehension, we create a secret &#x1f92b; function BTS which has it's own local variables. Python &#x1F40D; then sticks &#x1FA79; this secret function as a constant on the function object."
   ]
  },
  {
   "cell_type": "markdown",
   "id": "56feed94",
   "metadata": {},
   "source": [
    "This is our secret function:\n",
    "```python\n",
    "\n",
    "Disassembly of <code object <listcomp> at 0x0000011F39B6C100, file      \"C:\\Users\\zoeda\\AppData\\Local\\Temp\\ipykernel_11260\\3917933206.py\", line 4>:\n",
    "  4           0 RESUME                   0\n",
    "              2 BUILD_LIST               0\n",
    "              4 LOAD_FAST                0 (.0)\n",
    "        >>    6 FOR_ITER                 7 (to 22)\n",
    "\n",
    "  5           8 STORE_FAST               1 (x)\n",
    "\n",
    "  4          10 LOAD_FAST                1 (x)\n",
    "             12 LOAD_CONST               0 (3)\n",
    "             14 BINARY_OP                5 (*)\n",
    "             18 LIST_APPEND              2\n",
    "             20 JUMP_BACKWARD            8 (to 6)\n",
    "        >>   22 RETURN_VALUE\n",
    "```"
   ]
  },
  {
   "cell_type": "markdown",
   "id": "29995550",
   "metadata": {},
   "source": [
    "Note the `STORE_FAST` for `x` => `x` is local to the comprehension"
   ]
  },
  {
   "cell_type": "markdown",
   "id": "a26f4e69",
   "metadata": {},
   "source": [
    "# The End!"
   ]
  },
  {
   "cell_type": "code",
   "execution_count": 92,
   "id": "01cf7f20",
   "metadata": {},
   "outputs": [
    {
     "data": {
      "text/html": [
       "<img src=\"https://media.giphy.com/media/g19pV2LZKPaj8BjwwJ/giphy.gif\"/>"
      ],
      "text/plain": [
       "<IPython.core.display.Image object>"
      ]
     },
     "execution_count": 92,
     "metadata": {},
     "output_type": "execute_result"
    }
   ],
   "source": [
    "from IPython.display import Image\n",
    "Image(url= 'https://media.giphy.com/media/g19pV2LZKPaj8BjwwJ/giphy.gif')"
   ]
  }
 ],
 "metadata": {
  "kernelspec": {
   "display_name": "Python 3 (ipykernel)",
   "language": "python",
   "name": "python3"
  },
  "language_info": {
   "codemirror_mode": {
    "name": "ipython",
    "version": 3
   },
   "file_extension": ".py",
   "mimetype": "text/x-python",
   "name": "python",
   "nbconvert_exporter": "python",
   "pygments_lexer": "ipython3",
   "version": "3.11.5"
  }
 },
 "nbformat": 4,
 "nbformat_minor": 5
}
