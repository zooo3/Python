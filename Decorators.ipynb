{
 "cells": [
  {
   "cell_type": "markdown",
   "id": "d8047ca3",
   "metadata": {},
   "source": [
    "# &#x1F380; Decorators"
   ]
  },
  {
   "cell_type": "markdown",
   "id": "e9f048da",
   "metadata": {},
   "source": [
    "Based on the PyCon 2024 &#x1F40D; tutorial \"Reuven M. Lerner: All about decorators\" \n",
    "\n",
    "&#x1F3AC; https://www.youtube.com/watch?v=THv-m8niDho\n",
    "\n",
    "&#x1F47E; https://github.com/reuven/2024-pycon-decorators/"
   ]
  },
  {
   "cell_type": "markdown",
   "id": "a5c876c5",
   "metadata": {},
   "source": [
    "## &#x1F4D6; Contents  "
   ]
  },
  {
   "cell_type": "markdown",
   "id": "f747ffae",
   "metadata": {},
   "source": [
    "1. [What are decorators?](#what_dec) <br>\n",
    "1.1 [DRY rule](#dry) <br>\n",
    "1.2 [Use cases](#use_cases)\n",
    "2.  [How to write a decorator](#write_dec) <br>\n",
    "2.1 [Exercise: Shouter](#shouter) <br>\n",
    "2.2 [Exercise: Timing of functions](#timefunc) <br>\n",
    "3.  [Outer function storage](#outer) <br>\n",
    "3.1 [Memoization](#memo) <br>\n",
    "3.2 [Exercise: Once per minute](#once_min) <br>\n",
    "4. [Modifying inputs and outputs](#mod) <br>\n",
    "4.1 [Exercise: Only ints](#only_ints) <br>\n",
    "4.2 [Functools](#functools)\n",
    "5. [Decorators with arguments](#deco_args) <br>\n",
    "5.1 [Exercise: Only these types](#only_types) <br>\n",
    "5.2 [Stacking decorators](#stack_decs) <br>\n",
    "6. [Decorating classes](#dec_class) <br>"
   ]
  },
  {
   "cell_type": "markdown",
   "id": "fea09d3a",
   "metadata": {},
   "source": [
    "# &#x1F4A1;   What are decorators? <a class=\"anchor\" id=\"what_dec\"></a>"
   ]
  },
  {
   "cell_type": "markdown",
   "id": "909b5b5d",
   "metadata": {},
   "source": [
    "Decorators are best introduced via a story &#x1F3F0; &#x1F4D4; \n",
    "\n",
    "Once a upon a time, we had two basic functions..."
   ]
  },
  {
   "cell_type": "code",
   "execution_count": 1,
   "id": "4874fb60",
   "metadata": {},
   "outputs": [
    {
     "name": "stdout",
     "output_type": "stream",
     "text": [
      "A!\n",
      "\n",
      "B!\n",
      "\n"
     ]
    }
   ],
   "source": [
    "def a():\n",
    "    return f'A!\\n'\n",
    "\n",
    "def b():\n",
    "    return f'B!\\n'\n",
    "\n",
    "print(a())\n",
    "print(b())"
   ]
  },
  {
   "cell_type": "markdown",
   "id": "1b1378dd",
   "metadata": {},
   "source": [
    "One day, you receive a missive &#x1F4DC; from the king &#x1F451; : \n",
    "\n",
    "> Everything we print in this noble kingdom must have dashed lines above and below it. Please execute this request forthwith.\n",
    "\n",
    "&#x1F643;...But you are an experienced programmer."
   ]
  },
  {
   "cell_type": "code",
   "execution_count": 1,
   "id": "2df9e350",
   "metadata": {},
   "outputs": [
    {
     "name": "stdout",
     "output_type": "stream",
     "text": [
      "------------------------------------------------------------\n",
      "A!\n",
      "------------------------------------------------------------\n",
      "\n",
      "------------------------------------------------------------\n",
      "B!\n",
      "------------------------------------------------------------\n",
      "\n"
     ]
    }
   ],
   "source": [
    "lines = '-' * 60 +'\\n'\n",
    "\n",
    "def a():\n",
    "    return f'{lines}A!\\n{lines}'\n",
    "\n",
    "def b():\n",
    "    return f'{lines}B!\\n{lines}'\n",
    "\n",
    "print(a())\n",
    "print(b())"
   ]
  },
  {
   "cell_type": "markdown",
   "id": "1e64031e",
   "metadata": {},
   "source": [
    "Problem solved?! Not quite - the king has plans to expand his kingdom &#x1F3F0; and is sceptical of how this solution will scale."
   ]
  },
  {
   "cell_type": "markdown",
   "id": "29aa68f3",
   "metadata": {},
   "source": [
    "# &#x1F3DC;&#xFE0F; Don't Repeat Yourself (DRY) rule of programming <a class=\"anchor\" id=\"dry\"></a>"
   ]
  },
  {
   "cell_type": "markdown",
   "id": "1b07cbb1",
   "metadata": {},
   "source": [
    "Currently, we have a technique that requires us to include `lines` in *every* function we write -- the epitome of repetition!\n",
    "\n",
    "So, how can I include `lines` without explicitly including `lines` in every function?\n",
    "\n",
    "> Use [Python tutor](https://pythontutor.com/) for visualisations &#x1F4F9;\n"
   ]
  },
  {
   "cell_type": "code",
   "execution_count": 2,
   "id": "99ec725c",
   "metadata": {},
   "outputs": [
    {
     "name": "stdout",
     "output_type": "stream",
     "text": [
      "----------------------------------------\n",
      "A!\n",
      "----------------------------------------\n",
      "\n",
      "----------------------------------------\n",
      "B!\n",
      "----------------------------------------\n",
      "\n"
     ]
    }
   ],
   "source": [
    "# Option 1: write a new function that takes a function as an argument\n",
    "\n",
    "lines = '-' * 40 +'\\n'\n",
    "\n",
    "def with_lines(func):\n",
    "    return f'{lines}{func()}{lines}' # passes a function as an argument into the return str \n",
    "\n",
    "def a():\n",
    "    return f'A!\\n'\n",
    "\n",
    "def b():\n",
    "    return f'B!\\n'\n",
    "\n",
    "print(with_lines(a))\n",
    "print(with_lines(b))"
   ]
  },
  {
   "cell_type": "markdown",
   "id": "b09bf295",
   "metadata": {},
   "source": [
    "This solution works because:"
   ]
  },
  {
   "cell_type": "markdown",
   "id": "a1bf0680",
   "metadata": {},
   "source": [
    "> Functions are first class &#x1F947; objects in Python &#x1F40D; . This means we can consider them as **verbs** and **nouns**, and can store them in variables."
   ]
  },
  {
   "cell_type": "markdown",
   "id": "2b77a384",
   "metadata": {},
   "source": [
    "This solution scales but observe that `with_lines` is executing `a()` and `b()` -- not us. We're passing `a()` and `b()` to `with_lines`.\n",
    "\n",
    "So, now our API is broken and the peasants are threatening to revolt &#x1F525; let's try again..."
   ]
  },
  {
   "cell_type": "code",
   "execution_count": 3,
   "id": "9d18d3cb",
   "metadata": {},
   "outputs": [
    {
     "name": "stdout",
     "output_type": "stream",
     "text": [
      "----------------------------------------\n",
      "A!\n",
      "----------------------------------------\n",
      "\n",
      "----------------------------------------\n",
      "B!\n",
      "----------------------------------------\n",
      "\n"
     ]
    }
   ],
   "source": [
    "# Option 2: turn with_lines into a function that returns a function\n",
    "# i.e. create a closure!\n",
    "\n",
    "lines = '-' * 40 +'\\n'\n",
    "\n",
    "def with_lines(func):\n",
    "    def wrapper():\n",
    "        return f'{lines}{func()}{lines}'\n",
    "    return wrapper \n",
    "\n",
    "def a():\n",
    "    return f'A!\\n'\n",
    "\n",
    "with_lines_a = with_lines(a)\n",
    "\n",
    "def b():\n",
    "    return f'B!\\n'\n",
    "\n",
    "with_lines_b = with_lines(b)\n",
    "\n",
    "print(with_lines_a())\n",
    "print(with_lines_b())"
   ]
  },
  {
   "cell_type": "markdown",
   "id": "0620bbac",
   "metadata": {},
   "source": [
    "What is happening here?\n",
    "\n",
    "1. We define `wrapper` only when we run `with_lines`. So, we call `with_lines`, define `wrapper` and `wrapper` is a local variable.\n",
    "\n",
    "2. But `wrapper` doesn't execute at this point -- we only *return* it. Result: calling `with_lines` returns a function `wrapper`.\n",
    "\n",
    "3. Now, `wrapper` is going to return the result of executing a function `(func)` with lines around it."
   ]
  },
  {
   "cell_type": "markdown",
   "id": "d78d3c62",
   "metadata": {},
   "source": [
    "> The LEGB rule allows the inner &#x1F381; function (`wrapper`) access to the outer &#x1F30C; function's `with_lines` local variables but not vice versa &#x262F;"
   ]
  },
  {
   "cell_type": "markdown",
   "id": "a5b2191d",
   "metadata": {},
   "source": [
    "This is progress but the API is still broken, and the second-hand pitchfork market is booming...&#x1F525; &#129683;"
   ]
  },
  {
   "cell_type": "code",
   "execution_count": 4,
   "id": "5fe29bde",
   "metadata": {},
   "outputs": [
    {
     "name": "stdout",
     "output_type": "stream",
     "text": [
      "----------------------------------------\n",
      "A!\n",
      "----------------------------------------\n",
      "\n",
      "----------------------------------------\n",
      "B!\n",
      "----------------------------------------\n",
      "\n"
     ]
    }
   ],
   "source": [
    "# Option 3: don't assign to with_lines_a and with_lines_b\n",
    "# rather, assign to a and b\n",
    "\n",
    "lines = '-' * 40 +'\\n'\n",
    "\n",
    "def with_lines(func):\n",
    "    def wrapper():\n",
    "        return f'{lines}{func()}{lines}'\n",
    "    return wrapper \n",
    "\n",
    "def a():           # defining a()...\n",
    "    return f'A!\\n'\n",
    "\n",
    "a = with_lines(a)  # ...only to redefine it? It's like wrapping (or decorating) a -- *lightbulb moment*\n",
    "\n",
    "def b():\n",
    "    return f'B!\\n'\n",
    "\n",
    "b = with_lines(b)\n",
    "\n",
    "print(a())\n",
    "print(b())"
   ]
  },
  {
   "cell_type": "markdown",
   "id": "19d77483",
   "metadata": {},
   "source": [
    "Success! We've preserved the original API and narrowly avoided a revolt! &#x1F605; &#x1F525; &#129683;  \n",
    "\n",
    "But this solution is ugly. You observe the decorative hangings of the king's chamber and have an idea &#x1F4A1; ..."
   ]
  },
  {
   "cell_type": "code",
   "execution_count": 5,
   "id": "6475ebe6",
   "metadata": {},
   "outputs": [
    {
     "name": "stdout",
     "output_type": "stream",
     "text": [
      "----------------------------------------\n",
      "A!\n",
      "----------------------------------------\n",
      "\n",
      "----------------------------------------\n",
      "B!\n",
      "----------------------------------------\n",
      "\n"
     ]
    }
   ],
   "source": [
    "# Option 4: use Python decorator syntax\n",
    "\n",
    "lines = '-' * 40 +'\\n'\n",
    "\n",
    "def with_lines(func):\n",
    "    def wrapper():\n",
    "        return f'{lines}{func()}{lines}'\n",
    "    return wrapper \n",
    "\n",
    "@with_lines    # this is equivalent to line 14 -- decorator syntax\n",
    "def a():\n",
    "    return f'A!\\n'\n",
    "\n",
    "# a = with_lines(a)\n",
    "\n",
    "@with_lines\n",
    "def b():\n",
    "    return f'B!\\n'\n",
    "\n",
    "# b = with_lines(b)\n",
    "\n",
    "print(a())\n",
    "print(b())"
   ]
  },
  {
   "cell_type": "markdown",
   "id": "f43540d6",
   "metadata": {},
   "source": [
    "Finally! The king approves of this new \"decorator syntax\" &#x1F380; and the solution proves a success. In reward for your ingenuity &#129504;, his majesty offers an additional ration of wheat &#x1F33E; \n",
    "\n",
    "The kingdom &#x1F3F0; lives happily ever after in lined glory &#x1F4B8; &#x1F451; \n",
    "\n",
    "> The End &#x1F4D4;"
   ]
  },
  {
   "cell_type": "markdown",
   "id": "69962bcf",
   "metadata": {},
   "source": [
    "# &#128736;&#65039; Use cases <a class=\"anchor\" id=\"use_cases\"></a>"
   ]
  },
  {
   "cell_type": "markdown",
   "id": "e96c4daf",
   "metadata": {},
   "source": [
    "1. **Multiple functions that do the same thing -- I can extract this functionality into a decorator and thus DRY up my code** &#x1F3DC;&#xFE0F;\n",
    "\n",
    "2. Timing functions\n",
    "\n",
    "3. Security of functions\n",
    "\n",
    "4. Setting values before/after (setup/teardown)\n",
    "\n",
    "5. Logging\n",
    "\n",
    "6. Checking/filtering inputs\n",
    "\n",
    "7. Filtering outputs"
   ]
  },
  {
   "cell_type": "markdown",
   "id": "17d22d0b",
   "metadata": {},
   "source": [
    "```python\n",
    "# let's use @with_lines to decorate another function\n",
    "\n",
    "@with_lines\n",
    "def add(x, y):\n",
    "    return f'{x + y}\\n'\n",
    "\n",
    "print(add(4, 6))\n",
    "```"
   ]
  },
  {
   "cell_type": "markdown",
   "id": "d64bb0ad",
   "metadata": {},
   "source": [
    "Why the error? &#x274C; \n",
    "\n",
    "> Because we're not calling `add` -- we're calling `wrapper`. And `wrapper` takes 0 positional arguments.\n",
    "\n",
    "So we must rewrite `wrapper` &#x1F381;"
   ]
  },
  {
   "cell_type": "code",
   "execution_count": 6,
   "id": "6fc84024",
   "metadata": {},
   "outputs": [
    {
     "name": "stdout",
     "output_type": "stream",
     "text": [
      "----------------------------------------\n",
      "10\n",
      "----------------------------------------\n",
      "\n"
     ]
    }
   ],
   "source": [
    "def with_lines(func):\n",
    "    def wrapper(*args):    # take any number of positional arguments + creates a tuple \"args\"\n",
    "        return f'{lines}{func(*args)}{lines}'    # turn args into arguments to func() \n",
    "    return wrapper \n",
    "\n",
    "@with_lines\n",
    "def add(x, y):\n",
    "    return f'{x + y}\\n'\n",
    "\n",
    "print(add(4, 6))"
   ]
  },
  {
   "cell_type": "markdown",
   "id": "c14acc42",
   "metadata": {},
   "source": [
    "# &#x1F380; How to write a decorator <a class=\"anchor\" id=\"write_dec\"></a>"
   ]
  },
  {
   "cell_type": "markdown",
   "id": "d30c6db6",
   "metadata": {},
   "source": [
    "1. The outer function, the decorator, takes one argument, a function `func()` -- this is the function that will be decorated. This outer function is invoked once when we define the decorated function.\n",
    "\n",
    "2. The inner function, typically called `wrapper`, takes `*args` (and maybe `**kwargs`). It is invoked every time the original function is invoked. It can do whatever it wants with the arguments and outputs.\n",
    "\n",
    "3. After defining the inner function, the outer function returns `wrapper`.\n",
    "\n",
    "4. We can then decorate any function with `@deco_name`"
   ]
  },
  {
   "cell_type": "markdown",
   "id": "5bba3fd7",
   "metadata": {},
   "source": [
    "# &#x1F4DD; Exercise: `shouter` <a class=\"anchor\" id=\"shouter\"></a>"
   ]
  },
  {
   "cell_type": "markdown",
   "id": "1160f3c2",
   "metadata": {},
   "source": [
    "1. Write a decorator, `shouter`, that decorates functions that return strings.\n",
    "2. Any such function's ouput will return all `IN CAPS` and with an exclamation point at the end.\n",
    "\n",
    "Example:\n",
    "\n",
    "``` Python\n",
    "@shouter\n",
    "def hello(name):\n",
    "    return f'Hello, {name}'\n",
    "    \n",
    "print(hello('Zoe'))    # output HELLO, ZOE!\n",
    "\n",
    "```\n",
    "\n",
    "Hint: use `str.upper()`"
   ]
  },
  {
   "cell_type": "code",
   "execution_count": 7,
   "id": "1711b21e",
   "metadata": {},
   "outputs": [
    {
     "name": "stdout",
     "output_type": "stream",
     "text": [
      "HELLO, ZOE!\n"
     ]
    }
   ],
   "source": [
    "def shouter(func):    # outer function / decorator function\n",
    "     def wrapper(*args):    # inner function -- runs each time we invoke hello \n",
    "        return f'{func(*args).upper()}!'    \n",
    "     return wrapper    # return wrapper object -- don't wrapper()\n",
    "\n",
    "@shouter\n",
    "def hello(name):\n",
    "    return f'Hello, {name}'\n",
    "    \n",
    "print(hello('Zoe')) "
   ]
  },
  {
   "cell_type": "markdown",
   "id": "0b6541e2",
   "metadata": {},
   "source": [
    "# &#x1F4DD; Exercise: Timing of functions <a class=\"anchor\" id=\"timefunc\"></a>"
   ]
  },
  {
   "cell_type": "markdown",
   "id": "baa88190",
   "metadata": {},
   "source": [
    "Write a decorator, `timefunc`, that won't change the inputs or outputs of the decorated function. However, it will keep track of how long it took to run the function and will write it's results to a file, `timing.txt`.\n",
    "\n",
    "Every time I run the decorated function, I'll get another line in `timing.txt` containing: the function name, when it was started and how long it took.\n",
    "\n",
    "Hints:\n",
    "\n",
    "1. Normally, writing to a file with `w` will overwrite the file's contents. You should open a file with `a` append to avoid this.\n",
    "\n",
    "2. You can get the function name from the `__name__` attribute\n",
    "3. You can get the current Unix time (seconds since 1 Jan 1970) with `time.time()`\n",
    "\n",
    "```python\n",
    "import random\n",
    "import time\n",
    "\n",
    "@timefunc\n",
    "def slow_add(a, b):\n",
    "    time.sleep(random.randint(3))\n",
    "    return a + b\n",
    "\n",
    "@timefunc\n",
    "def slow_mul(a, b):\n",
    "    time.sleep(random.randint(3))\n",
    "    return a * b\n",
    "\n",
    "print(slow_add(2, 3))\n",
    "print(slow_mul(4, 5))\n",
    "```"
   ]
  },
  {
   "cell_type": "code",
   "execution_count": 8,
   "id": "4fc15d83",
   "metadata": {},
   "outputs": [
    {
     "name": "stdout",
     "output_type": "stream",
     "text": [
      "5\n",
      "20\n"
     ]
    }
   ],
   "source": [
    "import random\n",
    "import time\n",
    "\n",
    "def timefunc(func):\n",
    "    def wrapper(*args):\n",
    "        start_time = time.time()\n",
    "        value = func(*args)\n",
    "        end_time = time.time()\n",
    "        \n",
    "        with open('timing.txt', 'a') as f:\n",
    "            f.write(f'{func.__name__}\\t{start_time}\\t{end_time - start_time}\\n')\n",
    "        return value   \n",
    "    return wrapper \n",
    "    \n",
    "    \n",
    "@timefunc\n",
    "def slow_add(a, b):\n",
    "    time.sleep(random.randint(0, 3))\n",
    "    return a + b\n",
    "\n",
    "@timefunc\n",
    "def slow_mul(a, b):\n",
    "    time.sleep(random.randint(0, 3))\n",
    "    return a * b\n",
    "\n",
    "print(slow_add(2, 3))\n",
    "print(slow_mul(4, 5))"
   ]
  },
  {
   "cell_type": "code",
   "execution_count": 9,
   "id": "c395f2ca",
   "metadata": {},
   "outputs": [
    {
     "name": "stdout",
     "output_type": "stream",
     "text": [
      "slow_add\t1726044724.6541774\t3.0010738372802734\n",
      "slow_mul\t1726044727.657731\t2.0015861988067627\n",
      "slow_add\t1726044743.8495271\t0.0\n",
      "slow_mul\t1726044743.8505309\t2.0016212463378906\n",
      "slow_add\t1726125079.7179966\t3.0004806518554688\n",
      "slow_mul\t1726125082.7195177\t3.001563787460327\n",
      "slow_add\t1726296556.911066\t0.0\n",
      "slow_mul\t1726296556.9135127\t2.000694751739502\n",
      "slow_add\t1726382509.9388344\t2.000650405883789\n",
      "slow_mul\t1726382511.9404812\t3.00097393989563\n",
      "slow_add\t1726382906.84629\t2.0007424354553223\n",
      "slow_mul\t1726382908.8479533\t2.0007598400115967\n",
      "slow_add\t1726835744.6025093\t1.0011749267578125\n",
      "slow_mul\t1726835745.6246881\t0.0\n"
     ]
    }
   ],
   "source": [
    "!type timing.txt"
   ]
  },
  {
   "cell_type": "markdown",
   "id": "78468169",
   "metadata": {},
   "source": [
    "> We could improve this by adding an asynchronous tool such as Celery 🥬🌿"
   ]
  },
  {
   "cell_type": "markdown",
   "id": "8bff0e6b",
   "metadata": {},
   "source": [
    "# &#x1F30C; Outer function storage <a class=\"anchor\" id=\"outer\"></a>"
   ]
  },
  {
   "cell_type": "markdown",
   "id": "c55b245a",
   "metadata": {},
   "source": [
    "As we've seen, the inner function has access to the outer function's parameters and local variables. We can extend this idea -- to **store** data in the outer function. This data persists across calls to our inner (wrapper) function."
   ]
  },
  {
   "cell_type": "code",
   "execution_count": 10,
   "id": "f21d30b3",
   "metadata": {},
   "outputs": [
    {
     "name": "stdout",
     "output_type": "stream",
     "text": [
      "add: counter=1\n",
      "5\n",
      "mul: counter=1\n",
      "20\n",
      "add: counter=1\n",
      "5\n",
      "mul: counter=1\n",
      "20\n",
      "add: counter=1\n",
      "5\n",
      "mul: counter=1\n",
      "20\n"
     ]
    }
   ],
   "source": [
    "# I want to know how many times a function has been invoked\n",
    "# and print this to the screen every time we call it\n",
    "\n",
    "# anti-solution \n",
    "\n",
    "def count_calls(func):\n",
    "    def wrapper(*args):\n",
    "        counter = 0\n",
    "        value = func(*args)\n",
    "        counter += 1\n",
    "        print(f'{func.__name__}: {counter=}')\n",
    "        return value   \n",
    "    return wrapper \n",
    "    \n",
    "    \n",
    "@count_calls\n",
    "def add(a, b):\n",
    "    return a + b\n",
    "\n",
    "@count_calls\n",
    "def mul(a, b):\n",
    "    return a * b\n",
    "\n",
    "print(add(2, 3))\n",
    "print(mul(4, 5))\n",
    "print(add(2, 3))\n",
    "print(mul(4, 5))\n",
    "print(add(2, 3))\n",
    "print(mul(4, 5))"
   ]
  },
  {
   "cell_type": "markdown",
   "id": "b64cfc32",
   "metadata": {},
   "source": [
    "Why doesn't this work? &#x274C; Because\n",
    "\n",
    "> `counter` is reset to 0 every time `wrapper` is called\n"
   ]
  },
  {
   "cell_type": "markdown",
   "id": "fcdffbed",
   "metadata": {},
   "source": [
    "```python\n",
    "# anti-solution 2\n",
    "\n",
    "def count_calls(func):\n",
    "    counter = 0     \n",
    "    def wrapper(*args):\n",
    "        value = func(*args)\n",
    "        counter += 1\n",
    "        print(f'{func.__name__}: {counter=}')\n",
    "        return value   \n",
    "    return wrapper \n",
    "    \n",
    "    \n",
    "@count_calls\n",
    "def add(a, b):\n",
    "    return a + b\n",
    "\n",
    "@count_calls\n",
    "def mul(a, b):\n",
    "    return a * b\n",
    "\n",
    "print(add(2, 3))\n",
    "print(mul(4, 5))\n",
    "print(add(2, 3))\n",
    "print(mul(4, 5))\n",
    "print(add(2, 3))\n",
    "print(mul(4, 5))\n",
    "```"
   ]
  },
  {
   "cell_type": "markdown",
   "id": "6f90d1a8",
   "metadata": {},
   "source": [
    "Why the error? &#x274C; Because\n",
    "\n",
    "> Assignment of variables within a function is automatically local &#x1F3E0; So, when we define `wrapper`, it sees \n",
    "> ```python\n",
    "counter = counter + 1\n",
    ">```\n",
    "but can't find a the variable `counter` for the rhs"
   ]
  },
  {
   "cell_type": "code",
   "execution_count": 11,
   "id": "6b57a411",
   "metadata": {},
   "outputs": [
    {
     "name": "stdout",
     "output_type": "stream",
     "text": [
      "add: counter=1\n",
      "5\n",
      "mul: counter=1\n",
      "20\n",
      "add: counter=2\n",
      "5\n",
      "mul: counter=2\n",
      "20\n",
      "add: counter=3\n",
      "5\n",
      "mul: counter=3\n",
      "20\n"
     ]
    }
   ],
   "source": [
    "# solution\n",
    "\n",
    "def count_calls(func):\n",
    "    counter = 0   \n",
    "    def wrapper(*args):\n",
    "        nonlocal counter    \n",
    "        value = func(*args)\n",
    "        counter += 1\n",
    "        print(f'{func.__name__}: {counter=}')\n",
    "        return value   \n",
    "    return wrapper \n",
    "    \n",
    "    \n",
    "@count_calls\n",
    "def add(a, b):\n",
    "    return a + b\n",
    "\n",
    "@count_calls\n",
    "def mul(a, b):\n",
    "    return a * b\n",
    "\n",
    "print(add(2, 3))\n",
    "print(mul(4, 5))\n",
    "print(add(2, 3))\n",
    "print(mul(4, 5))\n",
    "print(add(2, 3))\n",
    "print(mul(4, 5))"
   ]
  },
  {
   "cell_type": "markdown",
   "id": "7fd64231",
   "metadata": {},
   "source": [
    "# &#x1F4BE; Memoization <a class=\"anchor\" id=\"memo\"></a>"
   ]
  },
  {
   "cell_type": "markdown",
   "id": "1dd236df",
   "metadata": {},
   "source": [
    "This is an old technique for caching. The idea is that every time we call a function, we want to check the arguments passed to the function:\n",
    "\n",
    "- If the arguments **haven't** been seen before, we run the function and cache the results.\n",
    "- Else grab the results from the cache and return them."
   ]
  },
  {
   "cell_type": "code",
   "execution_count": 12,
   "id": "bd0a8ee6",
   "metadata": {},
   "outputs": [
    {
     "name": "stdout",
     "output_type": "stream",
     "text": [
      "\tActually calling add with (2, 3)\n",
      "5\n",
      "\tActually calling mul with (4, 5)\n",
      "20\n",
      "5\n",
      "20\n",
      "\tActually calling add with (0, 8)\n",
      "8\n",
      "\tActually calling mul with (2, 3)\n",
      "6\n"
     ]
    }
   ],
   "source": [
    "# how to memoize\n",
    "\n",
    "def memoize(func):\n",
    "    cache = {}\n",
    "    def wrapper(*args):\n",
    "        if args not in cache:\n",
    "            print(f'\\tActually calling {func.__name__} with {args}')\n",
    "            cache[args] = func(*args)    \n",
    "        return cache[args]\n",
    "    return wrapper\n",
    "\n",
    "@memoize\n",
    "def add(a, b):\n",
    "    return a + b\n",
    "\n",
    "@memoize\n",
    "def mul(a, b):\n",
    "    return a * b\n",
    "\n",
    "print(add(2, 3))\n",
    "print(mul(4, 5))\n",
    "print(add(2, 3))\n",
    "print(mul(4, 5))\n",
    "print(add(0, 8))\n",
    "print(mul(2, 3))"
   ]
  },
  {
   "cell_type": "markdown",
   "id": "4d457963",
   "metadata": {},
   "source": [
    "# &#x1F4DD; Exercise: `once_per_minute` <a class=\"anchor\" id=\"once_min\"></a>"
   ]
  },
  {
   "cell_type": "markdown",
   "id": "902cefb9",
   "metadata": {},
   "source": [
    "Write a decorator, `once_per_minute`, which ensures a function can only run **once** in any 60-second period. Every time the function starts, it checks to ensure that at least 60 seconds have passed.\n",
    "\n",
    "If 60 seconds haven't passed since the last run, we should raise an exception.\n",
    "\n",
    "Else, reset the counter to the most recent start time.\n",
    "\n",
    "Hint: use `time.time()` to get the current Unix time (number of seconds since 1 Jan 1970)"
   ]
  },
  {
   "cell_type": "code",
   "execution_count": 13,
   "id": "eb252eb3",
   "metadata": {},
   "outputs": [
    {
     "name": "stdout",
     "output_type": "stream",
     "text": [
      "5\n",
      "20\n"
     ]
    },
    {
     "ename": "CalledTooOftenError",
     "evalue": "Too soon!",
     "output_type": "error",
     "traceback": [
      "\u001b[1;31m---------------------------------------------------------------------------\u001b[0m",
      "\u001b[1;31mCalledTooOftenError\u001b[0m                       Traceback (most recent call last)",
      "Cell \u001b[1;32mIn[13], line 30\u001b[0m\n\u001b[0;32m     28\u001b[0m \u001b[38;5;28mprint\u001b[39m(add(\u001b[38;5;241m2\u001b[39m, \u001b[38;5;241m3\u001b[39m))\n\u001b[0;32m     29\u001b[0m \u001b[38;5;28mprint\u001b[39m(mul(\u001b[38;5;241m4\u001b[39m, \u001b[38;5;241m5\u001b[39m))\n\u001b[1;32m---> 30\u001b[0m \u001b[38;5;28mprint\u001b[39m(add(\u001b[38;5;241m6\u001b[39m, \u001b[38;5;241m7\u001b[39m))\n\u001b[0;32m     31\u001b[0m \u001b[38;5;28mprint\u001b[39m(mul(\u001b[38;5;241m1\u001b[39m, \u001b[38;5;241m8\u001b[39m))\n",
      "Cell \u001b[1;32mIn[13], line 12\u001b[0m, in \u001b[0;36monce_per_minute.<locals>.wrapper\u001b[1;34m(*args)\u001b[0m\n\u001b[0;32m      9\u001b[0m current_time \u001b[38;5;241m=\u001b[39m time\u001b[38;5;241m.\u001b[39mtime()\n\u001b[0;32m     11\u001b[0m \u001b[38;5;28;01mif\u001b[39;00m current_time \u001b[38;5;241m-\u001b[39m last_ran_at \u001b[38;5;241m<\u001b[39m \u001b[38;5;241m60\u001b[39m:    \u001b[38;5;66;03m# need nonlocal bcoz of this reading\u001b[39;00m\n\u001b[1;32m---> 12\u001b[0m     \u001b[38;5;28;01mraise\u001b[39;00m CalledTooOftenError(\u001b[38;5;124m'\u001b[39m\u001b[38;5;124mToo soon!\u001b[39m\u001b[38;5;124m'\u001b[39m)\n\u001b[0;32m     13\u001b[0m last_ran_at \u001b[38;5;241m=\u001b[39m current_time\n\u001b[0;32m     15\u001b[0m value \u001b[38;5;241m=\u001b[39m func(\u001b[38;5;241m*\u001b[39margs)\n",
      "\u001b[1;31mCalledTooOftenError\u001b[0m: Too soon!"
     ]
    }
   ],
   "source": [
    "class CalledTooOftenError(Exception):\n",
    "    pass\n",
    "\n",
    "\n",
    "def once_per_minute(func):  \n",
    "    last_ran_at = 0\n",
    "    def wrapper(*args):\n",
    "        nonlocal last_ran_at\n",
    "        current_time = time.time()\n",
    "        \n",
    "        if current_time - last_ran_at < 60:    # need nonlocal bcoz of this reading\n",
    "            raise CalledTooOftenError('Too soon!')\n",
    "        last_ran_at = current_time\n",
    "        \n",
    "        value = func(*args)\n",
    "        return value   \n",
    "    return wrapper \n",
    "\n",
    "\n",
    "@once_per_minute\n",
    "def add(a, b):\n",
    "    return a + b\n",
    "\n",
    "@once_per_minute\n",
    "def mul(a, b):\n",
    "    return a * b\n",
    "\n",
    "print(add(2, 3))\n",
    "print(mul(4, 5))\n",
    "print(add(6, 7))\n",
    "print(mul(1, 8))"
   ]
  },
  {
   "cell_type": "markdown",
   "id": "ca3488d3",
   "metadata": {},
   "source": [
    "# &#x1F527; Modifying inputs & outputs <a class=\"anchor\" id=\"mod\"></a>"
   ]
  },
  {
   "cell_type": "markdown",
   "id": "d5140bc0",
   "metadata": {},
   "source": [
    "When we write a decorator, we have two opportunities to do stuff:\n",
    "\n",
    "1. When we define the function and it's originally decorated. This is done by the outer function.\n",
    "\n",
    "2. When we run the function, meaning that the inner (`wrapper`) function is invoked.\n",
    "\n",
    "This means that `wrapper` 🎁 gets the arguments we wanted to pass to the original function, and then invokes (or not) the original function. \n",
    "\n",
    "We can use this opportunity to filter or modify the arguments passed, as well as any results returned."
   ]
  },
  {
   "cell_type": "code",
   "execution_count": 14,
   "id": "7858e2e1",
   "metadata": {},
   "outputs": [
    {
     "data": {
      "text/plain": [
       "10"
      ]
     },
     "execution_count": 14,
     "metadata": {},
     "output_type": "execute_result"
    }
   ],
   "source": [
    "# Let's write a decorator that takes all of the arguments passed to\n",
    "# a function, and assumes they are all integers. It only passes\n",
    "# along those integers that are odd.\n",
    "\n",
    "def mysum(*numbers):\n",
    "    total = 0\n",
    "    \n",
    "    for one_number in numbers:\n",
    "        total += one_number\n",
    "        \n",
    "    return total\n",
    "\n",
    "# normally, I could do this:\n",
    "mysum(1, 2, 3, 4)"
   ]
  },
  {
   "cell_type": "code",
   "execution_count": 15,
   "id": "d4fb69f7",
   "metadata": {},
   "outputs": [
    {
     "data": {
      "text/plain": [
       "4"
      ]
     },
     "execution_count": 15,
     "metadata": {},
     "output_type": "execute_result"
    }
   ],
   "source": [
    "# but with my only_odds in place, we'll get 4 (i.e. 1 + 3)\n",
    "\n",
    "def only_odds(func):\n",
    "    def wrapper(*args):\n",
    "        \n",
    "        odd_numbers = []\n",
    "        for one_item in args:\n",
    "            if one_item % 2 == 1:\n",
    "                odd_numbers.append(one_item)\n",
    "                \n",
    "        value = func(*odd_numbers)\n",
    "        return value \n",
    "    return wrapper\n",
    "    \n",
    "@only_odds\n",
    "def mysum(*numbers):\n",
    "    total = 0\n",
    "    \n",
    "    for one_number in numbers:\n",
    "        total += one_number\n",
    "        \n",
    "    return total\n",
    "\n",
    "\n",
    "mysum(1, 2, 3, 4)"
   ]
  },
  {
   "cell_type": "markdown",
   "id": "97952b2c",
   "metadata": {},
   "source": [
    "Great! But observe that \n",
    "\n",
    "> We have an iterable (`args`), we want an iterable (`args` minus even nums) and we can define a mapping &#x1F30D; between them\n",
    "\n",
    "Enter our old friend comprehensions!"
   ]
  },
  {
   "cell_type": "code",
   "execution_count": 16,
   "id": "c8cd85b2",
   "metadata": {},
   "outputs": [
    {
     "data": {
      "text/plain": [
       "4"
      ]
     },
     "execution_count": 16,
     "metadata": {},
     "output_type": "execute_result"
    }
   ],
   "source": [
    "# Let's tighten up the code\n",
    "\n",
    "def only_odds(func):\n",
    "    def wrapper(*args):\n",
    "        \n",
    "        # list comprehension!\n",
    "        odd_numbers = [one_arg\n",
    "                       for one_arg in args\n",
    "                       if one_arg % 2 == 1]\n",
    "       \n",
    "        value = func(*odd_numbers)\n",
    "        return value \n",
    "    return wrapper\n",
    "    \n",
    "@only_odds\n",
    "def mysum(*numbers):\n",
    "    total = 0\n",
    "    \n",
    "    for one_number in numbers:\n",
    "        total += one_number\n",
    "        \n",
    "    return total\n",
    "\n",
    "\n",
    "mysum(1, 2, 3, 4)"
   ]
  },
  {
   "cell_type": "code",
   "execution_count": 17,
   "id": "e065dee1",
   "metadata": {},
   "outputs": [
    {
     "data": {
      "text/plain": [
       "4"
      ]
     },
     "execution_count": 17,
     "metadata": {},
     "output_type": "execute_result"
    }
   ],
   "source": [
    "# Keep tightening\n",
    "\n",
    "def only_odds(func):\n",
    "    def wrapper(*args):\n",
    "       \n",
    "        # job security!\n",
    "        value = func(*[one_arg\n",
    "                      for one_arg in args\n",
    "                      if one_arg % 2 == 1])\n",
    "        return value \n",
    "    return wrapper\n",
    "    \n",
    "@only_odds\n",
    "def mysum(*numbers):\n",
    "    total = 0\n",
    "    \n",
    "    for one_number in numbers:\n",
    "        total += one_number\n",
    "        \n",
    "    return total\n",
    "\n",
    "\n",
    "mysum(1, 2, 3, 4)"
   ]
  },
  {
   "cell_type": "markdown",
   "id": "886d5f5c",
   "metadata": {},
   "source": [
    "Why does this work? &#x2705;\n",
    "\n",
    "> We create an anonymous list and the `*` removes the parentheses. Then pass the individual args from the list to `func()`"
   ]
  },
  {
   "cell_type": "markdown",
   "id": "f59f5967",
   "metadata": {},
   "source": [
    "# &#x1F4DD; Exercise: `only_ints` <a class=\"anchor\" id=\"only_ints\"></a>"
   ]
  },
  {
   "cell_type": "markdown",
   "id": "796eefd5",
   "metadata": {},
   "source": [
    "Write a decorator that ensures that only integers will be passed to the underlying function.\n",
    "\n",
    "Hint: Don't use `type(x) == int` in your code. Rather, use `isinstance(x, int)` to check. This is because `isinstance` checks subclasses as well. \n",
    "\n",
    "Example:\n",
    "\n",
    "I should be able to call\n",
    "\n",
    "```python\n",
    "mysum(1, 2, 'zoe', 3, 4, 'python')\n",
    "```\n",
    "\n",
    "and it'll work fine, returning 10 and not raising an exception."
   ]
  },
  {
   "cell_type": "code",
   "execution_count": 18,
   "id": "01b07972",
   "metadata": {},
   "outputs": [
    {
     "data": {
      "text/plain": [
       "10"
      ]
     },
     "execution_count": 18,
     "metadata": {},
     "output_type": "execute_result"
    }
   ],
   "source": [
    "def only_ints(func):\n",
    "    def wrapper(*args):\n",
    "        \n",
    "        value = func(*[one_arg\n",
    "                      for one_arg in args\n",
    "                      if isinstance(one_arg, int)])\n",
    "        return value \n",
    "    return wrapper\n",
    "    \n",
    "@only_ints\n",
    "def mysum(*numbers):\n",
    "    total = 0\n",
    "    \n",
    "    for one_number in numbers:\n",
    "        total += one_number\n",
    "        \n",
    "    return total\n",
    "\n",
    "\n",
    "mysum(1, 2, 'zoe', 3, 4, 'python')"
   ]
  },
  {
   "cell_type": "markdown",
   "id": "e66c9659",
   "metadata": {},
   "source": [
    "# &#128736;&#65039; `functools` <a class=\"anchor\" id=\"functools\"></a>"
   ]
  },
  {
   "cell_type": "code",
   "execution_count": 19,
   "id": "ee8bf395",
   "metadata": {},
   "outputs": [
    {
     "name": "stdout",
     "output_type": "stream",
     "text": [
      "Help on function wrapper in module __main__:\n",
      "\n",
      "wrapper(*args)\n",
      "\n"
     ]
    }
   ],
   "source": [
    "# suppose we want info on mysum\n",
    "\n",
    "help(mysum)"
   ]
  },
  {
   "cell_type": "markdown",
   "id": "80b402ed",
   "metadata": {},
   "source": [
    " This is true but uninformative &#x1F532;\n",
    " \n",
    " > Use a decorator `@functools` on `wrapper`"
   ]
  },
  {
   "cell_type": "code",
   "execution_count": 20,
   "id": "271b070e",
   "metadata": {},
   "outputs": [
    {
     "data": {
      "text/plain": [
       "10"
      ]
     },
     "execution_count": 20,
     "metadata": {},
     "output_type": "execute_result"
    }
   ],
   "source": [
    "import functools\n",
    "\n",
    "def only_ints(func):\n",
    "    \n",
    "    @functools.wraps(func)\n",
    "    def wrapper(*args):\n",
    "        \n",
    "        value = func(*[one_arg\n",
    "                      for one_arg in args\n",
    "                      if isinstance(one_arg, int)])\n",
    "        return value \n",
    "    return wrapper\n",
    "    \n",
    "@only_ints\n",
    "def mysum(*numbers):\n",
    "    total = 0\n",
    "    \n",
    "    for one_number in numbers:\n",
    "        total += one_number\n",
    "        \n",
    "    return total\n",
    "\n",
    "\n",
    "mysum(1, 2, 'zoe', 3, 4, 'python')"
   ]
  },
  {
   "cell_type": "code",
   "execution_count": 21,
   "id": "8c013b13",
   "metadata": {},
   "outputs": [
    {
     "name": "stdout",
     "output_type": "stream",
     "text": [
      "Help on function mysum in module __main__:\n",
      "\n",
      "mysum(*numbers)\n",
      "\n"
     ]
    }
   ],
   "source": [
    "help(mysum)"
   ]
  },
  {
   "cell_type": "markdown",
   "id": "dcbca174",
   "metadata": {},
   "source": [
    "# &#x1F380; Decorators with arguments <a class=\"anchor\" id=\"deco_args\"></a>"
   ]
  },
  {
   "cell_type": "markdown",
   "id": "f95dfead",
   "metadata": {},
   "source": [
    "What if I want my decorator to take arguments? \n",
    "\n",
    "Earlier, we wrote a decorator `timefunc` that times ⏲️ the running of a function. I asked you to write the output into a file called `timing.txt`. Wouldn't it be convenient if we could configure this when we invoke our function?\n",
    "\n",
    "In order to have a decorator take an argument, we need three &#x0033;&#xFE0F;&#x20E3; levels of functions:\n",
    "\n",
    "1. Outer function is our decorator, and now takes the argument that the user passes in the `@` expression\n",
    "2. The middle function takes `func` as an argument -- it is passed the function that we are decorating \n",
    "3. The inner function, `wrapper`, remains as before.\n",
    "\n",
    "You can think of this as breaking the outer function in two &#x0032;&#xFE0F;&#x20E3; -- one piece takes the argument, the other the function."
   ]
  },
  {
   "cell_type": "code",
   "execution_count": 22,
   "id": "021526fa",
   "metadata": {},
   "outputs": [
    {
     "name": "stdout",
     "output_type": "stream",
     "text": [
      "5\n",
      "20\n"
     ]
    }
   ],
   "source": [
    "import time\n",
    "import random \n",
    "\n",
    "def timefunc(filename):\n",
    "    def middle(func):\n",
    "        def wrapper(*args):\n",
    "            start_time = time.time()\n",
    "            value = func(*args)\n",
    "            end_time = time.time()\n",
    "\n",
    "            with open(filename, 'a') as f:\n",
    "                f.write(f'{func.__name__}\\t{start_time}\\t{end_time - start_time}\\n')\n",
    "            return value   \n",
    "        return wrapper \n",
    "    return middle\n",
    "    \n",
    "    \n",
    "@timefunc('timing2.txt')\n",
    "def slow_add(a, b):\n",
    "    time.sleep(random.randint(0, 3))\n",
    "    return a + b\n",
    "# slow_add = timefunc('timing2.txt')(slow_add)\n",
    "\n",
    "@timefunc('timing3.txt')\n",
    "def slow_mul(a, b):\n",
    "    time.sleep(random.randint(0, 3))\n",
    "    return a * b\n",
    "# slow_mul = timefunc('timing2.txt')(slow_mul)\n",
    "\n",
    "print(slow_add(2, 3))\n",
    "print(slow_mul(4, 5))"
   ]
  },
  {
   "cell_type": "markdown",
   "id": "cc7f6a4a",
   "metadata": {},
   "source": [
    "What is happening here?\n",
    "\n",
    "> ```python \n",
    "> #slow_add = timefunc('timing2.txt')(slow_add)\n",
    "> ```\n",
    "> We're calling `timefunc` with an argument &#x23E9; returns a function &#x23E9; function applied to `slow_add` &#x23E9; returns a function which is assigned to `slow_add`"
   ]
  },
  {
   "cell_type": "code",
   "execution_count": 23,
   "id": "353d0a37",
   "metadata": {},
   "outputs": [
    {
     "name": "stdout",
     "output_type": "stream",
     "text": [
      "slow_add\t1726125125.0964813\t1.0008561611175537\n",
      "slow_add\t1726126059.358613\t1.000840663909912\n",
      "slow_add\t1726126131.0112517\t1.000533103942871\n",
      "slow_add\t1726304726.4080563\t1.001633882522583\n",
      "slow_add\t1726382541.1983454\t0.0007691383361816406\n",
      "slow_add\t1726382924.1818602\t2.000514030456543\n",
      "slow_add\t1726387544.5399296\t1.0057783126831055\n",
      "slow_add\t1726836030.0403647\t1.0008609294891357\n"
     ]
    }
   ],
   "source": [
    "!type timing2.txt"
   ]
  },
  {
   "cell_type": "code",
   "execution_count": 24,
   "id": "0f979e8e",
   "metadata": {},
   "outputs": [
    {
     "name": "stdout",
     "output_type": "stream",
     "text": [
      "slow_mul\t1726125126.0983803\t2.001152276992798\n",
      "slow_mul\t1726126060.3594537\t3.002119541168213\n",
      "slow_mul\t1726126132.0130918\t2.001307964324951\n",
      "slow_mul\t1726304727.411745\t0.0\n",
      "slow_mul\t1726382541.2011087\t1.0035631656646729\n",
      "slow_mul\t1726382926.1823742\t0.0\n",
      "slow_mul\t1726836031.0430522\t0.0\n"
     ]
    }
   ],
   "source": [
    "!type timing3.txt"
   ]
  },
  {
   "cell_type": "markdown",
   "id": "8b430774",
   "metadata": {},
   "source": [
    "> This is how decorators in pytest 🧪, Flask &#x2615;, Django etc. take args"
   ]
  },
  {
   "cell_type": "markdown",
   "id": "d825b7ec",
   "metadata": {},
   "source": [
    "# &#x1F4DD; Exercise: `only_these_types` <a class=\"anchor\" id=\"only_types\"></a>"
   ]
  },
  {
   "cell_type": "markdown",
   "id": "8fc3866b",
   "metadata": {},
   "source": [
    "Rewrite the `only_ints` decorator s.t. it takes any number of arguments -- but only of the types you allow to be passed to the underlying function. So, if someone uses:\n",
    "\n",
    "```python\n",
    "@only_these_types(int, float)\n",
    "```\n",
    "\n",
    "Then both `int` and `float` will go through, and others won't."
   ]
  },
  {
   "cell_type": "code",
   "execution_count": 25,
   "id": "ecb4c3d0",
   "metadata": {},
   "outputs": [
    {
     "data": {
      "text/plain": [
       "15.5"
      ]
     },
     "execution_count": 25,
     "metadata": {},
     "output_type": "execute_result"
    }
   ],
   "source": [
    "def only_these_types(*acceptable_types):\n",
    "    def middle(func):\n",
    "        \n",
    "        @functools.wraps(func)\n",
    "        def wrapper(*args):\n",
    "            \n",
    "            acceptable_args = func(*[one_arg\n",
    "                              for one_arg in args\n",
    "                              if isinstance(one_arg, acceptable_types)])\n",
    "            return acceptable_args \n",
    "        return wrapper\n",
    "    return middle\n",
    "    \n",
    "@only_these_types(int, float)\n",
    "def mysum(*numbers):\n",
    "    total = 0\n",
    "    \n",
    "    for one_number in numbers:\n",
    "        total += one_number\n",
    "        \n",
    "    return total\n",
    "\n",
    "\n",
    "mysum(1, 2, 'zoe', 3, 4, 'python', 5.5)"
   ]
  },
  {
   "cell_type": "markdown",
   "id": "0b6e6e81",
   "metadata": {},
   "source": [
    "# &#x1f9f1; Stacking decorators <a class=\"anchor\" id=\"stack_decs\"></a>"
   ]
  },
  {
   "cell_type": "code",
   "execution_count": 26,
   "id": "2cd429ed",
   "metadata": {},
   "outputs": [
    {
     "data": {
      "text/plain": [
       "15.5"
      ]
     },
     "execution_count": 26,
     "metadata": {},
     "output_type": "execute_result"
    }
   ],
   "source": [
    "# Can we stack decorators?\n",
    "# Answer: yes!\n",
    "\n",
    "@timefunc('mysum-timing.txt')\n",
    "@only_these_types(int, float)\n",
    "def mysum(*numbers):\n",
    "    total = 0\n",
    "    \n",
    "    for one_number in numbers:\n",
    "        total += one_number\n",
    "        \n",
    "    return total\n",
    "# mysum = only_these_types(int, float)(mysum) i.e. mysum wrapper on only_these_types\n",
    "# mysum = timefunc('filename')(mysum) i.e. mysum wrapper on timefunc\n",
    "\n",
    "mysum(1, 2, 'zoe', 3, 4, 'python', 5.5)"
   ]
  },
  {
   "cell_type": "code",
   "execution_count": 27,
   "id": "0f7a63a9",
   "metadata": {},
   "outputs": [
    {
     "name": "stdout",
     "output_type": "stream",
     "text": [
      "wrapper\t1726125934.9401298\t0.0\n",
      "mysum\t1726126020.7572677\t0.0\n",
      "mysum\t1726126071.9772425\t0.0\n",
      "mysum\t1726126136.2596314\t0.0\n",
      "mysum\t1726126651.30895\t0.0\n",
      "mysum\t1726306308.5779676\t0.0\n",
      "mysum\t1726307700.3937693\t0.0\n",
      "mysum\t1726382543.4159172\t0.0\n",
      "mysum\t1726382928.635957\t0.0\n",
      "mysum\t1726388611.7492337\t0.0\n",
      "mysum\t1726836061.3766203\t0.0\n"
     ]
    }
   ],
   "source": [
    "!type mysum-timing.txt"
   ]
  },
  {
   "cell_type": "markdown",
   "id": "8d42a41d",
   "metadata": {},
   "source": [
    "How does this work?\n",
    "\n",
    "> We have (`time_func`(`only_these_types`(`mysum`))). We decorate a function from **inside-out** &#129504;  but call it **outside-in** &#x1F4E6;  "
   ]
  },
  {
   "cell_type": "markdown",
   "id": "96d7b1fe",
   "metadata": {},
   "source": [
    "# &#8205; &#127891; Decorating classes <a class=\"anchor\" id=\"dec_class\"></a>"
   ]
  },
  {
   "cell_type": "markdown",
   "id": "7cdae1df",
   "metadata": {},
   "source": [
    "Can we decorate classes? Yes!\n",
    "\n",
    "Why? Because decorators are not function specific -- they work on any callable e.g. functions and classes.\n",
    "\n",
    "> A decorator is a callable that takes a callable argument, and returns a callable value &#x1F4DE; &#x0033;&#xFE0F;&#x20E3; \n",
    "\n",
    "If we decorate a class, what's going to happen?\n",
    "\n",
    "1. The outer (decorator &#x1F380;) function is invoked at defintion time. That would be when we define the class.\n",
    "2. The inner (wrapper &#x1F381;) function is invoked at invocation time. That would be when we create a new instance."
   ]
  },
  {
   "cell_type": "code",
   "execution_count": 30,
   "id": "a413890f",
   "metadata": {},
   "outputs": [
    {
     "name": "stdout",
     "output_type": "stream",
     "text": [
      "Now invoking louddeco decorator\n",
      "Now invoking wrapper on MyClass with args=(10,)\n",
      "{'x': 10}\n",
      "20\n",
      "Now invoking wrapper on MyClass with args=(20,)\n",
      "{'x': 20}\n",
      "40\n"
     ]
    }
   ],
   "source": [
    "# let's write a simple decorator which\n",
    "# tells us what's happening\n",
    "\n",
    "def louddeco(cls):\n",
    "    print('Now invoking louddeco decorator')\n",
    "    \n",
    "    # this is invoked each time we create a new instance of our decorated class\n",
    "    def wrapper(*args):\n",
    "        print(f'Now invoking wrapper on {cls.__name__} with {args=}')\n",
    "        new_instance = cls(*args)\n",
    "        print(vars(new_instance))\n",
    "        new_instance.created_at = time.time()\n",
    "        return new_instance\n",
    "    return wrapper\n",
    "\n",
    "@louddeco\n",
    "class MyClass:\n",
    "    def __init__(self, x):\n",
    "        self.x = x\n",
    "    def x2(self):\n",
    "        return self.x * 2\n",
    "    \n",
    "m1 = MyClass(10)\n",
    "print(m1.x2())\n",
    "\n",
    "m2 = MyClass(20)\n",
    "print(m2.x2())"
   ]
  },
  {
   "cell_type": "code",
   "execution_count": 31,
   "id": "8a69c6f5",
   "metadata": {},
   "outputs": [
    {
     "data": {
      "text/plain": [
       "{'x': 10, 'created_at': 1726836158.712287}"
      ]
     },
     "execution_count": 31,
     "metadata": {},
     "output_type": "execute_result"
    }
   ],
   "source": [
    "vars(m1)"
   ]
  },
  {
   "cell_type": "markdown",
   "id": "82fd58d7",
   "metadata": {},
   "source": [
    "> Use class decorators when we have common functionality across very different classes i.e. as an alternative to inheritance &#x1F468;&#x200D;&#x1F469;&#x200D;&#x1F467;&#x200D;&#x1F466;\n",
    "\n",
    "> Class decorators can be used to add: class attributes, class methods and instance attributes &#x1F4BB;"
   ]
  },
  {
   "cell_type": "markdown",
   "id": "35c4811c",
   "metadata": {},
   "source": [
    "The above example adds an attribute to each new instance of `MyClass`\n",
    "\n",
    "```python\n",
    "print(vars(new_instance))\n",
    "```\n",
    "Here, `x` has been defined and `__init__` run. So, any attributes we add after this line are instance attributes e.g.\n",
    "\n",
    "```python\n",
    "new_instance.created_at = time.time()\n",
    "```\n",
    "This allows for post-initialisation customisation &#127912;"
   ]
  },
  {
   "cell_type": "code",
   "execution_count": 32,
   "id": "e6c8df33",
   "metadata": {},
   "outputs": [
    {
     "data": {
      "text/plain": [
       "function"
      ]
     },
     "execution_count": 32,
     "metadata": {},
     "output_type": "execute_result"
    }
   ],
   "source": [
    "# what is the type of my class?\n",
    "type(MyClass)"
   ]
  },
  {
   "cell_type": "code",
   "execution_count": 33,
   "id": "d7750802",
   "metadata": {},
   "outputs": [
    {
     "data": {
      "text/plain": [
       "'wrapper'"
      ]
     },
     "execution_count": 33,
     "metadata": {},
     "output_type": "execute_result"
    }
   ],
   "source": [
    "# what is MyClass's .__name__ ?\n",
    "MyClass.__name__"
   ]
  },
  {
   "cell_type": "markdown",
   "id": "af26768f",
   "metadata": {},
   "source": [
    "We've gotten rid of our class in favour of a function &#128465;&#65039; But where is the original class? &#x1F50D;\n",
    "\n",
    "Here:\n",
    "```python\n",
    "def louddeco(cls):\n",
    "```\n",
    "Our parameter `cls` is referring to it."
   ]
  },
  {
   "cell_type": "code",
   "execution_count": 34,
   "id": "28a76aa4",
   "metadata": {},
   "outputs": [
    {
     "data": {
      "text/plain": [
       "__main__.MyClass"
      ]
     },
     "execution_count": 34,
     "metadata": {},
     "output_type": "execute_result"
    }
   ],
   "source": [
    "# let's do some open-heart-brain surgery\n",
    "# and remove the decorator\n",
    "# hint: don't do this IRL\n",
    "\n",
    "type(m1)"
   ]
  },
  {
   "cell_type": "code",
   "execution_count": 35,
   "id": "952478af",
   "metadata": {},
   "outputs": [],
   "source": [
    "# remove the decorator\n",
    "MyClass = type(m1)"
   ]
  },
  {
   "cell_type": "code",
   "execution_count": 36,
   "id": "1f87c8e3",
   "metadata": {},
   "outputs": [],
   "source": [
    "m3 = MyClass(30)"
   ]
  },
  {
   "cell_type": "code",
   "execution_count": 37,
   "id": "170e4434",
   "metadata": {},
   "outputs": [
    {
     "data": {
      "text/plain": [
       "{'x': 30}"
      ]
     },
     "execution_count": 37,
     "metadata": {},
     "output_type": "execute_result"
    }
   ],
   "source": [
    "# notice no created_at\n",
    "vars(m3)"
   ]
  },
  {
   "cell_type": "markdown",
   "id": "370da163",
   "metadata": {},
   "source": [
    "# The End!"
   ]
  },
  {
   "cell_type": "code",
   "execution_count": 38,
   "id": "9da32679",
   "metadata": {},
   "outputs": [
    {
     "data": {
      "text/html": [
       "<img src=\"https://media.giphy.com/media/pZMLKQvpjq5U5MRL84/giphy.gif\"/>"
      ],
      "text/plain": [
       "<IPython.core.display.Image object>"
      ]
     },
     "execution_count": 38,
     "metadata": {},
     "output_type": "execute_result"
    }
   ],
   "source": [
    "from IPython.display import Image\n",
    "Image(url='https://media.giphy.com/media/pZMLKQvpjq5U5MRL84/giphy.gif')"
   ]
  }
 ],
 "metadata": {
  "kernelspec": {
   "display_name": "Python 3 (ipykernel)",
   "language": "python",
   "name": "python3"
  },
  "language_info": {
   "codemirror_mode": {
    "name": "ipython",
    "version": 3
   },
   "file_extension": ".py",
   "mimetype": "text/x-python",
   "name": "python",
   "nbconvert_exporter": "python",
   "pygments_lexer": "ipython3",
   "version": "3.11.5"
  }
 },
 "nbformat": 4,
 "nbformat_minor": 5
}
